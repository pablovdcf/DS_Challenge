{
 "cells": [
  {
   "cell_type": "markdown",
   "id": "2d3396b4",
   "metadata": {},
   "source": [
    "# Data Science Challenge"
   ]
  },
  {
   "cell_type": "markdown",
   "id": "7a893cf4",
   "metadata": {},
   "source": [
    "### 01. Módulos"
   ]
  },
  {
   "cell_type": "code",
   "execution_count": 12,
   "id": "242097d9",
   "metadata": {},
   "outputs": [],
   "source": [
    "# Data wrangling\n",
    "import numpy as np\n",
    "import pandas as pd\n",
    "\n",
    "# Performance\n",
    "import time\n",
    "from tqdm import tqdm"
   ]
  },
  {
   "cell_type": "code",
   "execution_count": 14,
   "id": "e47a03ab",
   "metadata": {},
   "outputs": [
    {
     "name": "stdout",
     "output_type": "stream",
     "text": [
      "/home/dsc/data/challenge/DS_Challenge\r\n"
     ]
    }
   ],
   "source": [
    "# vemos donde estamos\n",
    "!pwd"
   ]
  },
  {
   "cell_type": "code",
   "execution_count": 13,
   "id": "b7de433e",
   "metadata": {},
   "outputs": [
    {
     "name": "stdout",
     "output_type": "stream",
     "text": [
      "bookings.csv.bz2  DS_Challenge_01.ipynb  README.md\r\n",
      "_data\t\t  ds_exercises\t\t searches.csv.bz2\r\n"
     ]
    }
   ],
   "source": [
    "# que contiene la ruta (archivos, textos, etc)\n",
    "!ls"
   ]
  },
  {
   "cell_type": "markdown",
   "id": "3c8aebd4",
   "metadata": {},
   "source": [
    "Cogemos las rutas de los archivos que queremos leer"
   ]
  },
  {
   "cell_type": "code",
   "execution_count": 15,
   "id": "e6108143",
   "metadata": {},
   "outputs": [],
   "source": [
    "path_booking = '/home/dsc/data/challenge/DS_Challenge/bookings.csv.bz2'"
   ]
  },
  {
   "cell_type": "code",
   "execution_count": 16,
   "id": "a471eaec",
   "metadata": {},
   "outputs": [],
   "source": [
    "path_searches = '/home/dsc/data/challenge/DS_Challenge/searches.csv.bz2'"
   ]
  },
  {
   "cell_type": "markdown",
   "id": "db9cada2",
   "metadata": {},
   "source": [
    "Contamos las lineas con la función `open`"
   ]
  },
  {
   "cell_type": "code",
   "execution_count": 19,
   "id": "8f4710a3",
   "metadata": {
    "scrolled": true
   },
   "outputs": [
    {
     "name": "stdout",
     "output_type": "stream",
     "text": [
      "Bookings has 3686282 lines.\n",
      "CPU times: user 5.13 s, sys: 1.08 s, total: 6.22 s\n",
      "Wall time: 6.27 s\n"
     ]
    }
   ],
   "source": [
    "%%time\n",
    "\n",
    "with open(path_booking, mode='r', errors='ignore') as b:\n",
    "    k = 0\n",
    "    for line in b.readlines():\n",
    "        k += 1\n",
    "        \n",
    "print(f'Bookings has {k} lines.')"
   ]
  },
  {
   "cell_type": "code",
   "execution_count": 20,
   "id": "5eaa4b8b",
   "metadata": {
    "scrolled": false
   },
   "outputs": [
    {
     "name": "stdout",
     "output_type": "stream",
     "text": [
      "Searches has 3832185 lines.\n",
      "CPU times: user 6.02 s, sys: 335 ms, total: 6.35 s\n",
      "Wall time: 6.39 s\n"
     ]
    }
   ],
   "source": [
    "%%time\n",
    "\n",
    "with open(path_searches, mode='r', errors='ignore') as b:\n",
    "    k = 0\n",
    "    for line in b.readlines():\n",
    "        k += 1\n",
    "        \n",
    "\n",
    "print(f'Searches has {k} lines.')"
   ]
  },
  {
   "cell_type": "markdown",
   "id": "e85f160b",
   "metadata": {},
   "source": [
    "Contamos las lineas con el módulo `bz2`"
   ]
  },
  {
   "cell_type": "code",
   "execution_count": 23,
   "id": "c98beb3f",
   "metadata": {},
   "outputs": [],
   "source": [
    "# Importamos el módulo \"bz2 Files\"\n",
    "\n",
    "import bz2"
   ]
  },
  {
   "cell_type": "code",
   "execution_count": null,
   "id": "ea60b9e5",
   "metadata": {},
   "outputs": [],
   "source": [
    "%%time\n",
    "# for loop searches file\n",
    "with bz2.BZ2File(path_searches, mode='r') as bz2file:\n",
    "    k = 0\n",
    "    for line in bz2file.readlines():\n",
    "        k += 1\n",
    "        \n",
    "print(f'Searches {k} lines.')"
   ]
  },
  {
   "cell_type": "code",
   "execution_count": null,
   "id": "ac409049",
   "metadata": {},
   "outputs": [],
   "source": []
  }
 ],
 "metadata": {
  "kernelspec": {
   "display_name": "Python 3",
   "language": "python",
   "name": "python3"
  },
  "language_info": {
   "codemirror_mode": {
    "name": "ipython",
    "version": 3
   },
   "file_extension": ".py",
   "mimetype": "text/x-python",
   "name": "python",
   "nbconvert_exporter": "python",
   "pygments_lexer": "ipython3",
   "version": "3.11.1"
  },
  "vscode": {
   "interpreter": {
    "hash": "5de336b9d235d4ddc762faae00ec3697a92c8fab4ffe4636ca02ddc0c3d5e03d"
   }
  }
 },
 "nbformat": 4,
 "nbformat_minor": 5
}
