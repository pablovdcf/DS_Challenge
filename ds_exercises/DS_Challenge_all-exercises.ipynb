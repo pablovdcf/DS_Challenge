{
 "cells": [
  {
   "cell_type": "markdown",
   "id": "2d3396b4",
   "metadata": {},
   "source": [
    "# Data Science Challenge"
   ]
  },
  {
   "attachments": {},
   "cell_type": "markdown",
   "id": "3c8aebd4",
   "metadata": {},
   "source": [
    "# Path files \n",
    ">(Put your paths here)"
   ]
  },
  {
   "cell_type": "code",
   "execution_count": 15,
   "id": "e6108143",
   "metadata": {},
   "outputs": [],
   "source": [
    "path_booking = '/home/dsc/data/challenge/DS_Challenge/bookings.csv.bz2'     # Put your path in the string"
   ]
  },
  {
   "cell_type": "code",
   "execution_count": 1,
   "id": "a471eaec",
   "metadata": {},
   "outputs": [],
   "source": [
    "path_searches = '/home/dsc/data/challenge/DS_Challenge/searches.csv.bz2'       # Put your path in the string"
   ]
  },
  {
   "cell_type": "markdown",
   "id": "10576ede",
   "metadata": {},
   "source": [
    "# Exercise 1\n",
    "\n",
    "> Count the number of the lines from the files\n",
    "\n",
    "### Modules and libraries needed\n",
    "\n",
    "* bz2, for loading data directly from compressed file"
   ]
  },
  {
   "cell_type": "code",
   "execution_count": 12,
   "id": "242097d9",
   "metadata": {},
   "outputs": [],
   "source": [
    "# Data wrangling\n",
    "import numpy as np\n",
    "import pandas as pd\n",
    "\n",
    "# Performance\n",
    "import time\n",
    "from tqdm import tqdm"
   ]
  },
  {
   "cell_type": "code",
   "execution_count": 14,
   "id": "e47a03ab",
   "metadata": {},
   "outputs": [
    {
     "name": "stdout",
     "output_type": "stream",
     "text": [
      "/home/dsc/data/challenge/DS_Challenge\r\n"
     ]
    }
   ],
   "source": [
    "# vemos donde estamos\n",
    "!pwd"
   ]
  },
  {
   "cell_type": "code",
   "execution_count": 13,
   "id": "b7de433e",
   "metadata": {},
   "outputs": [
    {
     "name": "stdout",
     "output_type": "stream",
     "text": [
      "bookings.csv.bz2  DS_Challenge_01.ipynb  README.md\r\n",
      "_data\t\t  ds_exercises\t\t searches.csv.bz2\r\n"
     ]
    }
   ],
   "source": [
    "# que contiene la ruta (archivos, textos, etc)\n",
    "!ls"
   ]
  },
  {
   "attachments": {},
   "cell_type": "markdown",
   "id": "db9cada2",
   "metadata": {},
   "source": [
    "Count the lines with the function `open`"
   ]
  },
  {
   "cell_type": "code",
   "execution_count": 19,
   "id": "8f4710a3",
   "metadata": {
    "scrolled": true
   },
   "outputs": [
    {
     "name": "stdout",
     "output_type": "stream",
     "text": [
      "Bookings has 3686282 lines.\n",
      "CPU times: user 5.13 s, sys: 1.08 s, total: 6.22 s\n",
      "Wall time: 6.27 s\n"
     ]
    }
   ],
   "source": [
    "%%time\n",
    "\n",
    "with open(path_booking, mode='r', errors='ignore') as b:\n",
    "    k = 0\n",
    "    for line in b.readlines():\n",
    "        k += 1\n",
    "        \n",
    "print(f'Bookings has {k} lines.')"
   ]
  },
  {
   "cell_type": "code",
   "execution_count": 20,
   "id": "5eaa4b8b",
   "metadata": {
    "scrolled": false
   },
   "outputs": [
    {
     "name": "stdout",
     "output_type": "stream",
     "text": [
      "Searches has 3832185 lines.\n",
      "CPU times: user 6.02 s, sys: 335 ms, total: 6.35 s\n",
      "Wall time: 6.39 s\n"
     ]
    }
   ],
   "source": [
    "%%time\n",
    "\n",
    "with open(path_searches, mode='r', errors='ignore') as b:\n",
    "    k = 0\n",
    "    for line in b.readlines():\n",
    "        k += 1\n",
    "        \n",
    "\n",
    "print(f'Searches has {k} lines.')"
   ]
  },
  {
   "attachments": {},
   "cell_type": "markdown",
   "id": "e85f160b",
   "metadata": {},
   "source": [
    "Count the lines with the module `bz2`"
   ]
  },
  {
   "cell_type": "code",
   "execution_count": 23,
   "id": "c98beb3f",
   "metadata": {},
   "outputs": [],
   "source": [
    "# Importamos el módulo \"bz2 Files\"\n",
    "\n",
    "import bz2"
   ]
  },
  {
   "cell_type": "code",
   "execution_count": null,
   "id": "ea60b9e5",
   "metadata": {},
   "outputs": [],
   "source": [
    "%%time\n",
    "# for loop searches file\n",
    "with bz2.BZ2File(path_searches, mode='r') as bz2file:\n",
    "    k = 0\n",
    "    for line in bz2file.readlines():\n",
    "        k += 1\n",
    "        \n",
    "print(f'Searches {k} lines.')"
   ]
  },
  {
   "cell_type": "markdown",
   "id": "7c05bd9c",
   "metadata": {},
   "source": [
    "### <strong>SHELL</strong>\n",
    "\n",
    "With the command `bz2cat` we can \"Get-Content\" from the file and read it\n",
    "\n",
    "We will use `tqdm` to see the progress bar and typed with `--bytes` to look in human the file size\n",
    "\n",
    ">Rememeber in shell you need to stay on the path where you have the folders to execute this code"
   ]
  },
  {
   "attachments": {},
   "cell_type": "markdown",
   "id": "7b60674b",
   "metadata": {},
   "source": [
    "#### Linux\n",
    "Using `bzcat`\n"
   ]
  },
  {
   "cell_type": "code",
   "execution_count": null,
   "id": "c4892c84",
   "metadata": {},
   "outputs": [
    {
     "name": "stderr",
     "output_type": "stream",
     "text": [
      "UsageError: Line magic function `%bzcat` not found.\n"
     ]
    }
   ],
   "source": [
    "%bzcat 'bookings.csv.bz2' | tqdm --bytes | wc -l"
   ]
  },
  {
   "attachments": {},
   "cell_type": "markdown",
   "id": "9d6aa185",
   "metadata": {},
   "source": [
    "#### Windows\n",
    "\n",
    "With PowerShell `Get-Content` \"Name of the file\" | Measure-Object -Line"
   ]
  },
  {
   "cell_type": "code",
   "execution_count": null,
   "id": "f2a69432",
   "metadata": {},
   "outputs": [],
   "source": [
    "%Get-Content 'bookings.csv.bz2' | Measure-Object -Line"
   ]
  },
  {
   "cell_type": "markdown",
   "id": "80ea60df",
   "metadata": {},
   "source": [
    "# Exercise 2\n",
    "\n",
    "**Top 10 arrival airports in the world in 2013 (using the bookings file)**\n",
    "\n",
    "- To get the total number of passengers for an airport, you can sum the column `pax`, grouping by `arr_port`. Note that there is negative pax. That corresponds to cancelations. So to get the total number of passengers that have actually booked, you should sum including the negatives (that will remove the canceled bookings).\n",
    "- Print the top 10 arrival airports in the standard output, including the number of passengers.\n",
    "- **Bonus point**: Get the name of the city or airport corresponding to that airport (programatically, we suggest to have a look at **GeoBases in Github**)\n",
    "- **Bonus point**: Solve this problem using pandas (instead of any other approach)"
   ]
  },
  {
   "attachments": {},
   "cell_type": "markdown",
   "id": "d66f512a",
   "metadata": {},
   "source": [
    "The plan is:\n",
    "1. Tear the dataset down to smaller pieces.\n",
    "   >doing with chunks\n",
    "2. Perform aggregation operations on the small piece.\n",
    "   >using agg function\n",
    "3. Save it for later to combine all the smaller pieces.\n",
    "   >Concatenating the chunks\n",
    "4. Aggregate again but with the smaller pieces or chunks of data.\n",
    "\n",
    "We will use the `chunk` parameter of the `pd.read_csv` function."
   ]
  },
  {
   "cell_type": "code",
   "execution_count": null,
   "id": "f24f6ada",
   "metadata": {},
   "outputs": [],
   "source": [
    "def nan2zero(num):\n",
    "  try:\n",
    "    return int(num)\n",
    "  except:\n",
    "    return 0"
   ]
  },
  {
   "cell_type": "code",
   "execution_count": null,
   "id": "dda1d72c",
   "metadata": {},
   "outputs": [
    {
     "name": "stdout",
     "output_type": "stream",
     "text": [
      "Chunk: 1, size of chunk 100000\n",
      "Chunk: 2, size of chunk 100000\n",
      "Chunk: 3, size of chunk 100000\n",
      "Chunk: 4, size of chunk 100000\n",
      "Chunk: 5, size of chunk 100000\n",
      "Chunk: 6, size of chunk 100000\n",
      "Chunk: 7, size of chunk 100000\n",
      "Chunk: 8, size of chunk 100000\n",
      "Chunk: 9, size of chunk 100000\n",
      "Chunk: 10, size of chunk 100000\n"
     ]
    },
    {
     "data": {
      "text/html": [
       "<div>\n",
       "<style scoped>\n",
       "    .dataframe tbody tr th:only-of-type {\n",
       "        vertical-align: middle;\n",
       "    }\n",
       "\n",
       "    .dataframe tbody tr th {\n",
       "        vertical-align: top;\n",
       "    }\n",
       "\n",
       "    .dataframe thead th {\n",
       "        text-align: right;\n",
       "    }\n",
       "</style>\n",
       "<table border=\"1\" class=\"dataframe\">\n",
       "  <thead>\n",
       "    <tr style=\"text-align: right;\">\n",
       "      <th></th>\n",
       "      <th>pax</th>\n",
       "    </tr>\n",
       "    <tr>\n",
       "      <th>arr_port</th>\n",
       "      <th></th>\n",
       "    </tr>\n",
       "  </thead>\n",
       "  <tbody>\n",
       "    <tr>\n",
       "      <th>LHR</th>\n",
       "      <td>8881</td>\n",
       "    </tr>\n",
       "    <tr>\n",
       "      <th>MCO</th>\n",
       "      <td>7093</td>\n",
       "    </tr>\n",
       "    <tr>\n",
       "      <th>LAX</th>\n",
       "      <td>7053</td>\n",
       "    </tr>\n",
       "    <tr>\n",
       "      <th>LAS</th>\n",
       "      <td>6963</td>\n",
       "    </tr>\n",
       "    <tr>\n",
       "      <th>JFK</th>\n",
       "      <td>6627</td>\n",
       "    </tr>\n",
       "    <tr>\n",
       "      <th>CDG</th>\n",
       "      <td>6449</td>\n",
       "    </tr>\n",
       "    <tr>\n",
       "      <th>BKK</th>\n",
       "      <td>5946</td>\n",
       "    </tr>\n",
       "    <tr>\n",
       "      <th>MIA</th>\n",
       "      <td>5815</td>\n",
       "    </tr>\n",
       "    <tr>\n",
       "      <th>SFO</th>\n",
       "      <td>5800</td>\n",
       "    </tr>\n",
       "    <tr>\n",
       "      <th>DXB</th>\n",
       "      <td>5559</td>\n",
       "    </tr>\n",
       "  </tbody>\n",
       "</table>\n",
       "</div>"
      ],
      "text/plain": [
       "           pax\n",
       "arr_port      \n",
       "LHR       8881\n",
       "MCO       7093\n",
       "LAX       7053\n",
       "LAS       6963\n",
       "JFK       6627\n",
       "CDG       6449\n",
       "BKK       5946\n",
       "MIA       5815\n",
       "SFO       5800\n",
       "DXB       5559"
      ]
     },
     "metadata": {},
     "output_type": "display_data"
    }
   ],
   "source": [
    "# cols_of_interest = [12, 34, 35]\n",
    "\n",
    "bookings = []\n",
    "\n",
    "df_iterator = pd.read_csv(path_booking,\n",
    "    compression=\"bz2\",\n",
    "    sep=\"^\",\n",
    "    usecols = lambda x: x.strip() in ['arr_port', 'pax', 'year'], # Usamos esto pero con los indices parece que vuelven las columnas ok.\n",
    "    converters= {\n",
    "        'arr_port': str.strip,\n",
    "        'pax': nan2zero     # Function to clean NA values in pax\n",
    "    },\n",
    "    chunksize=1e5,      # The number of nrows for chunk\n",
    "    nrows=1e6      # Limit the number of rows -> Toy problem\n",
    ")\n",
    "\n",
    "for i, data_chunk in enumerate(df_iterator):\n",
    "    print((\"Chunk: %d, size of chunk %d\"%(i+1, len(data_chunk))))           # Only for have some information about the chunks\n",
    "    data_chunk_2013 = data_chunk[data_chunk['year']==2013]                  # Filter by year 2013\n",
    "    chunk_result = data_chunk_2013.groupby(by=['arr_port','year']).sum()[['pax']]       # Group by arr_port + year and sum the passengers\n",
    "    bookings.append(chunk_result)                                           # Appending the chunks into the empty list we create at the begining of this code cell\n",
    "    \n",
    "total_bookings = pd.concat(bookings).groupby('arr_port').sum()[['pax']]     # We need to regroup by airports and sum passengers for chunks do it later\n",
    "top_10 = total_bookings.sort_values(by='pax', ascending=False).head(10)     # Sorting the values by the number of passengers in descending order\n",
    "\n",
    "top_10\n"
   ]
  },
  {
   "cell_type": "markdown",
   "id": "a49dcd9e",
   "metadata": {},
   "source": [
    "### With all the data"
   ]
  },
  {
   "cell_type": "code",
   "execution_count": null,
   "id": "dcd01fa7",
   "metadata": {},
   "outputs": [
    {
     "name": "stdout",
     "output_type": "stream",
     "text": [
      "Chunk: 1, size of chunk 1000000\n",
      "Chunk: 2, size of chunk 1000000\n",
      "Chunk: 3, size of chunk 1000000\n",
      "Chunk: 4, size of chunk 1000000\n",
      "Chunk: 5, size of chunk 1000000\n",
      "Chunk: 6, size of chunk 1000000\n",
      "Chunk: 7, size of chunk 1000000\n",
      "Chunk: 8, size of chunk 1000000\n",
      "Chunk: 9, size of chunk 1000000\n",
      "Chunk: 10, size of chunk 1000000\n",
      "Chunk: 11, size of chunk 10\n"
     ]
    },
    {
     "data": {
      "text/html": [
       "<div>\n",
       "<style scoped>\n",
       "    .dataframe tbody tr th:only-of-type {\n",
       "        vertical-align: middle;\n",
       "    }\n",
       "\n",
       "    .dataframe tbody tr th {\n",
       "        vertical-align: top;\n",
       "    }\n",
       "\n",
       "    .dataframe thead th {\n",
       "        text-align: right;\n",
       "    }\n",
       "</style>\n",
       "<table border=\"1\" class=\"dataframe\">\n",
       "  <thead>\n",
       "    <tr style=\"text-align: right;\">\n",
       "      <th></th>\n",
       "      <th>pax</th>\n",
       "    </tr>\n",
       "    <tr>\n",
       "      <th>arr_port</th>\n",
       "      <th></th>\n",
       "    </tr>\n",
       "  </thead>\n",
       "  <tbody>\n",
       "    <tr>\n",
       "      <th>LHR</th>\n",
       "      <td>88809</td>\n",
       "    </tr>\n",
       "    <tr>\n",
       "      <th>MCO</th>\n",
       "      <td>70930</td>\n",
       "    </tr>\n",
       "    <tr>\n",
       "      <th>LAX</th>\n",
       "      <td>70530</td>\n",
       "    </tr>\n",
       "    <tr>\n",
       "      <th>LAS</th>\n",
       "      <td>69630</td>\n",
       "    </tr>\n",
       "    <tr>\n",
       "      <th>JFK</th>\n",
       "      <td>66270</td>\n",
       "    </tr>\n",
       "    <tr>\n",
       "      <th>CDG</th>\n",
       "      <td>64490</td>\n",
       "    </tr>\n",
       "    <tr>\n",
       "      <th>BKK</th>\n",
       "      <td>59460</td>\n",
       "    </tr>\n",
       "    <tr>\n",
       "      <th>MIA</th>\n",
       "      <td>58150</td>\n",
       "    </tr>\n",
       "    <tr>\n",
       "      <th>SFO</th>\n",
       "      <td>58000</td>\n",
       "    </tr>\n",
       "    <tr>\n",
       "      <th>DXB</th>\n",
       "      <td>55590</td>\n",
       "    </tr>\n",
       "  </tbody>\n",
       "</table>\n",
       "</div>"
      ],
      "text/plain": [
       "            pax\n",
       "arr_port       \n",
       "LHR       88809\n",
       "MCO       70930\n",
       "LAX       70530\n",
       "LAS       69630\n",
       "JFK       66270\n",
       "CDG       64490\n",
       "BKK       59460\n",
       "MIA       58150\n",
       "SFO       58000\n",
       "DXB       55590"
      ]
     },
     "metadata": {},
     "output_type": "display_data"
    }
   ],
   "source": [
    "df_iterator = pd.read_csv(path_booking,\n",
    "    compression=\"bz2\",\n",
    "    sep=\"^\",\n",
    "    usecols = lambda x: x.strip() in ['arr_port', 'pax', 'year'], # Usamos esto pero con los indices parece que vuelven las columnas ok.\n",
    "    converters= {\n",
    "        'arr_port': str.strip,\n",
    "        'pax': nan2zero     # Function to clean NA values in pax\n",
    "    },\n",
    "    chunksize=1e6,      # The number of nrows for chunk\n",
    ")\n",
    "\n",
    "bookings = []\n",
    "\n",
    "for i, data_chunk in enumerate(df_iterator):\n",
    "    print((\"Chunk: %d, size of chunk %d\"%(i+1, len(data_chunk))))           # Only for have some information about the chunks\n",
    "    data_chunk_2013 = data_chunk[data_chunk['year']==2013]                  # Filter by year 2013\n",
    "    chunk_result = data_chunk_2013.groupby(by=['arr_port','year']).sum()[['pax']]       # Group by arr_port + year and sum the passengers\n",
    "    bookings.append(chunk_result)                                           # Appending the chunks into the empty list we create at the begining of this code cell\n",
    "    \n",
    "total_bookings = pd.concat(bookings).groupby('arr_port').sum()[['pax']]     # We need to regroup by airports and sum passengers for chunks do it later\n",
    "top_10 = total_bookings.sort_values(by='pax', ascending=False).head(10)     # Sorting the values by the number of passengers in descending order\n",
    "\n",
    "top_10"
   ]
  },
  {
   "cell_type": "markdown",
   "id": "42d73d12",
   "metadata": {},
   "source": [
    "**Bonus point**: \n",
    "\n",
    "Get the name of the city or airport corresponding to that airport (programatically, we suggest to have a look at GeoBases in Github)"
   ]
  },
  {
   "cell_type": "code",
   "execution_count": null,
   "id": "da7c0124",
   "metadata": {},
   "outputs": [],
   "source": [
    "from neobase import NeoBase\n",
    "\n",
    "# for interactivity\n",
    "from ipywidgets import interact"
   ]
  },
  {
   "cell_type": "code",
   "execution_count": null,
   "id": "c4f5e6a9",
   "metadata": {},
   "outputs": [
    {
     "data": {
      "text/plain": [
       "<neobase.neobase.NeoBase at 0x1e983dbee90>"
      ]
     },
     "metadata": {},
     "output_type": "display_data"
    }
   ],
   "source": [
    "b = NeoBase()\n",
    "b"
   ]
  },
  {
   "cell_type": "code",
   "execution_count": null,
   "id": "01d7cfd9",
   "metadata": {},
   "outputs": [
    {
     "data": {
      "text/plain": [
       "['London']"
      ]
     },
     "metadata": {},
     "output_type": "display_data"
    }
   ],
   "source": [
    "# @interact\n",
    "\n",
    "b.get('LHR','city_name_list')"
   ]
  },
  {
   "cell_type": "code",
   "execution_count": null,
   "id": "779bdf81",
   "metadata": {},
   "outputs": [],
   "source": [
    "data_bookings = pd.read_csv(path_booking,\n",
    "    compression=\"bz2\",\n",
    "    sep=\"^\",\n",
    "    usecols = lambda x: x.strip() in ['arr_port', 'pax', 'year'], # Usamos esto pero con los indices parece que vuelven las columnas ok.\n",
    "    converters= {\n",
    "        'arr_port': str.strip,\n",
    "        'pax': nan2zero     # Function to clean NA values in pax\n",
    "    })"
   ]
  },
  {
   "cell_type": "code",
   "execution_count": null,
   "id": "44388365",
   "metadata": {},
   "outputs": [],
   "source": [
    "from neobase import NeoBase\n",
    "\n",
    "def name_city(code_iata):\n",
    "    b = NeoBase()\n",
    "    name = b.get(code_iata,'city_name_list')\n",
    "    return name"
   ]
  },
  {
   "cell_type": "code",
   "execution_count": null,
   "id": "4ab8cee4",
   "metadata": {},
   "outputs": [
    {
     "data": {
      "text/plain": [
       "['Maasai Mara Game Reserve']"
      ]
     },
     "metadata": {},
     "output_type": "display_data"
    }
   ],
   "source": [
    "name_city('MDR')"
   ]
  },
  {
   "cell_type": "code",
   "execution_count": null,
   "id": "61cd1174",
   "metadata": {},
   "outputs": [
    {
     "name": "stdout",
     "output_type": "stream",
     "text": [
      "['Barcelona']\n",
      "['Itacoatiara']\n",
      "['Qarn Alam']\n",
      "['Madrid']\n",
      "['Spring Creek Airport']\n"
     ]
    }
   ],
   "source": [
    "print(name_city(\"BCN\"))\n",
    "print(name_city(\"ITA\"))\n",
    "print(name_city(\"RNM\"))\n",
    "print(name_city(\"MAD\"))\n",
    "print(name_city(\"SCG\"))"
   ]
  },
  {
   "cell_type": "code",
   "execution_count": null,
   "id": "3bb30a5b",
   "metadata": {},
   "outputs": [
    {
     "data": {
      "text/plain": [
       "Index(['LHR', 'MCO', 'LAX', 'LAS', 'JFK', 'CDG', 'BKK', 'MIA', 'SFO', 'DXB'], dtype='object', name='arr_port')"
      ]
     },
     "metadata": {},
     "output_type": "display_data"
    }
   ],
   "source": [
    "top_10.index"
   ]
  },
  {
   "cell_type": "code",
   "execution_count": null,
   "id": "7e0156ec",
   "metadata": {},
   "outputs": [
    {
     "data": {
      "text/plain": [
       "{'__dup__': set(),\n",
       " 'iata_code': 'LHR',\n",
       " 'name': 'London Heathrow Airport',\n",
       " 'lat': '51.4775',\n",
       " 'lng': '-0.461389',\n",
       " 'page_rank': 0.6542080087816798,\n",
       " 'country_code': 'GB',\n",
       " 'country_name': 'United Kingdom',\n",
       " 'continent_name': 'Europe',\n",
       " 'timezone': 'Europe/London',\n",
       " 'city_code_list': ['LON'],\n",
       " 'city_name_list': ['London'],\n",
       " 'location_type': ['A'],\n",
       " 'currency': 'GBP'}"
      ]
     },
     "metadata": {},
     "output_type": "display_data"
    }
   ],
   "source": [
    "b.get(top_10.index[0])"
   ]
  },
  {
   "cell_type": "code",
   "execution_count": null,
   "id": "bfe17a6d",
   "metadata": {},
   "outputs": [
    {
     "data": {
      "text/plain": [
       "'London Heathrow Airport'"
      ]
     },
     "metadata": {},
     "output_type": "display_data"
    }
   ],
   "source": [
    "b.get(top_10.index[0])['name']"
   ]
  },
  {
   "cell_type": "code",
   "execution_count": null,
   "id": "eda857ba",
   "metadata": {},
   "outputs": [
    {
     "data": {
      "text/html": [
       "<div>\n",
       "<style scoped>\n",
       "    .dataframe tbody tr th:only-of-type {\n",
       "        vertical-align: middle;\n",
       "    }\n",
       "\n",
       "    .dataframe tbody tr th {\n",
       "        vertical-align: top;\n",
       "    }\n",
       "\n",
       "    .dataframe thead th {\n",
       "        text-align: right;\n",
       "    }\n",
       "</style>\n",
       "<table border=\"1\" class=\"dataframe\">\n",
       "  <thead>\n",
       "    <tr style=\"text-align: right;\">\n",
       "      <th></th>\n",
       "      <th>pax</th>\n",
       "      <th>arr_port_name</th>\n",
       "      <th>city</th>\n",
       "      <th>country</th>\n",
       "      <th>currency</th>\n",
       "    </tr>\n",
       "    <tr>\n",
       "      <th>arr_port</th>\n",
       "      <th></th>\n",
       "      <th></th>\n",
       "      <th></th>\n",
       "      <th></th>\n",
       "      <th></th>\n",
       "    </tr>\n",
       "  </thead>\n",
       "  <tbody>\n",
       "    <tr>\n",
       "      <th>LHR</th>\n",
       "      <td>88809</td>\n",
       "      <td>London Heathrow Airport</td>\n",
       "      <td>London</td>\n",
       "      <td>United Kingdom</td>\n",
       "      <td>GBP</td>\n",
       "    </tr>\n",
       "    <tr>\n",
       "      <th>MCO</th>\n",
       "      <td>70930</td>\n",
       "      <td>Orlando International Airport</td>\n",
       "      <td>Orlando</td>\n",
       "      <td>United States</td>\n",
       "      <td>USD</td>\n",
       "    </tr>\n",
       "    <tr>\n",
       "      <th>LAX</th>\n",
       "      <td>70530</td>\n",
       "      <td>Los Angeles International Airport</td>\n",
       "      <td>Los Angeles</td>\n",
       "      <td>United States</td>\n",
       "      <td>USD</td>\n",
       "    </tr>\n",
       "    <tr>\n",
       "      <th>LAS</th>\n",
       "      <td>69630</td>\n",
       "      <td>McCarran International Airport</td>\n",
       "      <td>Las Vegas</td>\n",
       "      <td>United States</td>\n",
       "      <td>USD</td>\n",
       "    </tr>\n",
       "    <tr>\n",
       "      <th>JFK</th>\n",
       "      <td>66270</td>\n",
       "      <td>John F. Kennedy International Airport</td>\n",
       "      <td>New York City</td>\n",
       "      <td>United States</td>\n",
       "      <td>USD</td>\n",
       "    </tr>\n",
       "    <tr>\n",
       "      <th>CDG</th>\n",
       "      <td>64490</td>\n",
       "      <td>Paris Charles de Gaulle Airport</td>\n",
       "      <td>Paris</td>\n",
       "      <td>France</td>\n",
       "      <td>EUR</td>\n",
       "    </tr>\n",
       "    <tr>\n",
       "      <th>BKK</th>\n",
       "      <td>59460</td>\n",
       "      <td>Suvarnabhumi Airport</td>\n",
       "      <td>Bangkok</td>\n",
       "      <td>Thailand</td>\n",
       "      <td>THB</td>\n",
       "    </tr>\n",
       "    <tr>\n",
       "      <th>MIA</th>\n",
       "      <td>58150</td>\n",
       "      <td>Miami International Airport</td>\n",
       "      <td>Miami</td>\n",
       "      <td>United States</td>\n",
       "      <td>USD</td>\n",
       "    </tr>\n",
       "    <tr>\n",
       "      <th>SFO</th>\n",
       "      <td>58000</td>\n",
       "      <td>San Francisco International Airport</td>\n",
       "      <td>San Francisco</td>\n",
       "      <td>United States</td>\n",
       "      <td>USD</td>\n",
       "    </tr>\n",
       "    <tr>\n",
       "      <th>DXB</th>\n",
       "      <td>55590</td>\n",
       "      <td>Dubai International Airport</td>\n",
       "      <td>Dubai</td>\n",
       "      <td>United Arab Emirates</td>\n",
       "      <td>AED</td>\n",
       "    </tr>\n",
       "  </tbody>\n",
       "</table>\n",
       "</div>"
      ],
      "text/plain": [
       "            pax                          arr_port_name           city  \\\n",
       "arr_port                                                                \n",
       "LHR       88809                London Heathrow Airport         London   \n",
       "MCO       70930          Orlando International Airport        Orlando   \n",
       "LAX       70530      Los Angeles International Airport    Los Angeles   \n",
       "LAS       69630         McCarran International Airport      Las Vegas   \n",
       "JFK       66270  John F. Kennedy International Airport  New York City   \n",
       "CDG       64490        Paris Charles de Gaulle Airport          Paris   \n",
       "BKK       59460                   Suvarnabhumi Airport        Bangkok   \n",
       "MIA       58150            Miami International Airport          Miami   \n",
       "SFO       58000    San Francisco International Airport  San Francisco   \n",
       "DXB       55590            Dubai International Airport          Dubai   \n",
       "\n",
       "                       country currency  \n",
       "arr_port                                 \n",
       "LHR             United Kingdom      GBP  \n",
       "MCO              United States      USD  \n",
       "LAX              United States      USD  \n",
       "LAS              United States      USD  \n",
       "JFK              United States      USD  \n",
       "CDG                     France      EUR  \n",
       "BKK                   Thailand      THB  \n",
       "MIA              United States      USD  \n",
       "SFO              United States      USD  \n",
       "DXB       United Arab Emirates      AED  "
      ]
     },
     "metadata": {},
     "output_type": "display_data"
    }
   ],
   "source": [
    "b = NeoBase()\n",
    "top_10['arr_port_name'] = top_10.index.map(lambda x: b.get(x, 'name'))\n",
    "top_10['city'] = top_10.index.map(lambda x: b.get(x, 'city_name_list')[0])\n",
    "top_10['country'] = top_10.index.map(lambda x: b.get(x, 'country_name'))\n",
    "top_10['currency'] = top_10.index.map(lambda x: b.get(x, 'currency'))\n",
    "top_10"
   ]
  },
  {
   "cell_type": "code",
   "execution_count": null,
   "id": "c37daa2f",
   "metadata": {},
   "outputs": [],
   "source": [
    "top_10.to_csv('Exercise_2.csv', sep = '^', index = False)"
   ]
  },
  {
   "cell_type": "markdown",
   "id": "4a5ad9ed",
   "metadata": {},
   "source": [
    "# Exercise 3\n",
    "\n",
    "**Plot the monthly number of searches for flights arriving at Málaga, Madrid or Barcelona**\n",
    "\n",
    "- For the arriving airport, you can use the Destination column in the searches file. \n",
    "- Plot a curve for Málaga, another one for Madrid, and another one for Barcelona, in the same figure.\n",
    "- **Bonus point**: Solving this problem using pandas (instead of any other approach)"
   ]
  },
  {
   "cell_type": "markdown",
   "id": "d0bb1c6b",
   "metadata": {},
   "source": [
    "## Modules and libraries"
   ]
  },
  {
   "cell_type": "code",
   "execution_count": null,
   "id": "ea34d3dc",
   "metadata": {},
   "outputs": [],
   "source": [
    "import numpy as np\n",
    "import pandas as pd\n",
    "\n",
    "# Visualization\n",
    "import matplotlib.pyplot as plt\n",
    "import seaborn as sns\n",
    "\n",
    "pd.options.display.max_columns = None\n",
    "#pd.options.display.max_rows = 100"
   ]
  },
  {
   "cell_type": "code",
   "execution_count": null,
   "id": "a23c5609",
   "metadata": {},
   "outputs": [],
   "source": [
    "def data_preprocessing(df): \n",
    "    '''\n",
    "\n",
    "    '''\n",
    "\n",
    "    df['Date'] = df['Date'].str.strip().str[:7]         # Slicing the date\n",
    "    \n",
    "    df['Destination'] = df['Destination'].str.strip().str.upper()   # Cleaning the values of Destination (iata_codes must be len=3)\n",
    "    df.dropna(inplace=True)                                         # Cleaning de Na values"
   ]
  },
  {
   "cell_type": "code",
   "execution_count": null,
   "id": "6670b400",
   "metadata": {},
   "outputs": [],
   "source": [
    "def data_plot(path: str):\n",
    "    \n",
    "    searches_iterator = pd.read_csv(path,\n",
    "                        sep='^',\n",
    "                        chunksize=1e6,\n",
    "                        #    nrows=1e6,\n",
    "                        compression='bz2',\n",
    "                        usecols=['Date','Destination'])\n",
    "\n",
    "    searches =[]\n",
    "    \n",
    "    for i, chunk in enumerate(searches_iterator):\n",
    "        # print((\"Chunk: %d, size of chunk %d\"%(i+1, len(chunk))))           # Only for have some information about the chunks\n",
    "        chunk['Year_Month'] = chunk['Date'].str[:7]                        # Extract the year and month slicing the chunks\n",
    "        data_chunk = chunk[chunk['Destination'].isin([\"MAD\", \"BCN\", \"AGP\"])]    # Filter the destination airports we want to plot\n",
    "        data_chunk['Searches'] = 1\n",
    "        chunk_group = data_chunk.groupby(['Year_Month','Destination']).sum()[['Searches']]  # Group the data_chunk and sum the column that we create before\n",
    "        searches.append(chunk_group)\n",
    "        \n",
    "    total_searches = pd.concat(searches)                                    # Concat all the chunks\n",
    "    total_searches = total_searches.groupby(['Year_Month', 'Destination']).sum()[['Searches']]\n",
    "    \n",
    "    fig, ax = plt.subplots(figsize=(15,8))\n",
    "\n",
    "    plot = sns.lineplot(data=total_searches, x='Year_Month', y='Searches', hue='Destination')\n",
    "    plt.title(\"Searches by Airport Destination \");\n",
    "    return plot"
   ]
  },
  {
   "cell_type": "code",
   "execution_count": null,
   "id": "ca30eb89",
   "metadata": {},
   "outputs": [
    {
     "name": "stderr",
     "output_type": "stream",
     "text": [
      "C:\\Users\\Pablo Villar\\AppData\\Local\\Temp\\ipykernel_16072\\3168168681.py:15: SettingWithCopyWarning: \n",
      "A value is trying to be set on a copy of a slice from a DataFrame.\n",
      "Try using .loc[row_indexer,col_indexer] = value instead\n",
      "\n",
      "See the caveats in the documentation: https://pandas.pydata.org/pandas-docs/stable/user_guide/indexing.html#returning-a-view-versus-a-copy\n",
      "  data_chunk['Searches'] = 1\n",
      "C:\\Users\\Pablo Villar\\AppData\\Local\\Temp\\ipykernel_16072\\3168168681.py:16: FutureWarning: The default value of numeric_only in DataFrameGroupBy.sum is deprecated. In a future version, numeric_only will default to False. Either specify numeric_only or select only columns which should be valid for the function.\n",
      "  chunk_group = data_chunk.groupby(['Year_Month','Destination']).sum()[['Searches']]  # Group the data_chunk and sum the column that we create before\n",
      "C:\\Users\\Pablo Villar\\AppData\\Local\\Temp\\ipykernel_16072\\3168168681.py:15: SettingWithCopyWarning: \n",
      "A value is trying to be set on a copy of a slice from a DataFrame.\n",
      "Try using .loc[row_indexer,col_indexer] = value instead\n",
      "\n",
      "See the caveats in the documentation: https://pandas.pydata.org/pandas-docs/stable/user_guide/indexing.html#returning-a-view-versus-a-copy\n",
      "  data_chunk['Searches'] = 1\n",
      "C:\\Users\\Pablo Villar\\AppData\\Local\\Temp\\ipykernel_16072\\3168168681.py:16: FutureWarning: The default value of numeric_only in DataFrameGroupBy.sum is deprecated. In a future version, numeric_only will default to False. Either specify numeric_only or select only columns which should be valid for the function.\n",
      "  chunk_group = data_chunk.groupby(['Year_Month','Destination']).sum()[['Searches']]  # Group the data_chunk and sum the column that we create before\n",
      "C:\\Users\\Pablo Villar\\AppData\\Local\\Temp\\ipykernel_16072\\3168168681.py:15: SettingWithCopyWarning: \n",
      "A value is trying to be set on a copy of a slice from a DataFrame.\n",
      "Try using .loc[row_indexer,col_indexer] = value instead\n",
      "\n",
      "See the caveats in the documentation: https://pandas.pydata.org/pandas-docs/stable/user_guide/indexing.html#returning-a-view-versus-a-copy\n",
      "  data_chunk['Searches'] = 1\n",
      "C:\\Users\\Pablo Villar\\AppData\\Local\\Temp\\ipykernel_16072\\3168168681.py:16: FutureWarning: The default value of numeric_only in DataFrameGroupBy.sum is deprecated. In a future version, numeric_only will default to False. Either specify numeric_only or select only columns which should be valid for the function.\n",
      "  chunk_group = data_chunk.groupby(['Year_Month','Destination']).sum()[['Searches']]  # Group the data_chunk and sum the column that we create before\n",
      "C:\\Users\\Pablo Villar\\AppData\\Local\\Temp\\ipykernel_16072\\3168168681.py:15: SettingWithCopyWarning: \n",
      "A value is trying to be set on a copy of a slice from a DataFrame.\n",
      "Try using .loc[row_indexer,col_indexer] = value instead\n",
      "\n",
      "See the caveats in the documentation: https://pandas.pydata.org/pandas-docs/stable/user_guide/indexing.html#returning-a-view-versus-a-copy\n",
      "  data_chunk['Searches'] = 1\n",
      "C:\\Users\\Pablo Villar\\AppData\\Local\\Temp\\ipykernel_16072\\3168168681.py:16: FutureWarning: The default value of numeric_only in DataFrameGroupBy.sum is deprecated. In a future version, numeric_only will default to False. Either specify numeric_only or select only columns which should be valid for the function.\n",
      "  chunk_group = data_chunk.groupby(['Year_Month','Destination']).sum()[['Searches']]  # Group the data_chunk and sum the column that we create before\n",
      "C:\\Users\\Pablo Villar\\AppData\\Local\\Temp\\ipykernel_16072\\3168168681.py:15: SettingWithCopyWarning: \n",
      "A value is trying to be set on a copy of a slice from a DataFrame.\n",
      "Try using .loc[row_indexer,col_indexer] = value instead\n",
      "\n",
      "See the caveats in the documentation: https://pandas.pydata.org/pandas-docs/stable/user_guide/indexing.html#returning-a-view-versus-a-copy\n",
      "  data_chunk['Searches'] = 1\n",
      "C:\\Users\\Pablo Villar\\AppData\\Local\\Temp\\ipykernel_16072\\3168168681.py:16: FutureWarning: The default value of numeric_only in DataFrameGroupBy.sum is deprecated. In a future version, numeric_only will default to False. Either specify numeric_only or select only columns which should be valid for the function.\n",
      "  chunk_group = data_chunk.groupby(['Year_Month','Destination']).sum()[['Searches']]  # Group the data_chunk and sum the column that we create before\n",
      "C:\\Users\\Pablo Villar\\AppData\\Local\\Temp\\ipykernel_16072\\3168168681.py:15: SettingWithCopyWarning: \n",
      "A value is trying to be set on a copy of a slice from a DataFrame.\n",
      "Try using .loc[row_indexer,col_indexer] = value instead\n",
      "\n",
      "See the caveats in the documentation: https://pandas.pydata.org/pandas-docs/stable/user_guide/indexing.html#returning-a-view-versus-a-copy\n",
      "  data_chunk['Searches'] = 1\n",
      "C:\\Users\\Pablo Villar\\AppData\\Local\\Temp\\ipykernel_16072\\3168168681.py:16: FutureWarning: The default value of numeric_only in DataFrameGroupBy.sum is deprecated. In a future version, numeric_only will default to False. Either specify numeric_only or select only columns which should be valid for the function.\n",
      "  chunk_group = data_chunk.groupby(['Year_Month','Destination']).sum()[['Searches']]  # Group the data_chunk and sum the column that we create before\n",
      "C:\\Users\\Pablo Villar\\AppData\\Local\\Temp\\ipykernel_16072\\3168168681.py:15: SettingWithCopyWarning: \n",
      "A value is trying to be set on a copy of a slice from a DataFrame.\n",
      "Try using .loc[row_indexer,col_indexer] = value instead\n",
      "\n",
      "See the caveats in the documentation: https://pandas.pydata.org/pandas-docs/stable/user_guide/indexing.html#returning-a-view-versus-a-copy\n",
      "  data_chunk['Searches'] = 1\n",
      "C:\\Users\\Pablo Villar\\AppData\\Local\\Temp\\ipykernel_16072\\3168168681.py:16: FutureWarning: The default value of numeric_only in DataFrameGroupBy.sum is deprecated. In a future version, numeric_only will default to False. Either specify numeric_only or select only columns which should be valid for the function.\n",
      "  chunk_group = data_chunk.groupby(['Year_Month','Destination']).sum()[['Searches']]  # Group the data_chunk and sum the column that we create before\n",
      "C:\\Users\\Pablo Villar\\AppData\\Local\\Temp\\ipykernel_16072\\3168168681.py:15: SettingWithCopyWarning: \n",
      "A value is trying to be set on a copy of a slice from a DataFrame.\n",
      "Try using .loc[row_indexer,col_indexer] = value instead\n",
      "\n",
      "See the caveats in the documentation: https://pandas.pydata.org/pandas-docs/stable/user_guide/indexing.html#returning-a-view-versus-a-copy\n",
      "  data_chunk['Searches'] = 1\n",
      "C:\\Users\\Pablo Villar\\AppData\\Local\\Temp\\ipykernel_16072\\3168168681.py:16: FutureWarning: The default value of numeric_only in DataFrameGroupBy.sum is deprecated. In a future version, numeric_only will default to False. Either specify numeric_only or select only columns which should be valid for the function.\n",
      "  chunk_group = data_chunk.groupby(['Year_Month','Destination']).sum()[['Searches']]  # Group the data_chunk and sum the column that we create before\n",
      "C:\\Users\\Pablo Villar\\AppData\\Local\\Temp\\ipykernel_16072\\3168168681.py:15: SettingWithCopyWarning: \n",
      "A value is trying to be set on a copy of a slice from a DataFrame.\n",
      "Try using .loc[row_indexer,col_indexer] = value instead\n",
      "\n",
      "See the caveats in the documentation: https://pandas.pydata.org/pandas-docs/stable/user_guide/indexing.html#returning-a-view-versus-a-copy\n",
      "  data_chunk['Searches'] = 1\n",
      "C:\\Users\\Pablo Villar\\AppData\\Local\\Temp\\ipykernel_16072\\3168168681.py:16: FutureWarning: The default value of numeric_only in DataFrameGroupBy.sum is deprecated. In a future version, numeric_only will default to False. Either specify numeric_only or select only columns which should be valid for the function.\n",
      "  chunk_group = data_chunk.groupby(['Year_Month','Destination']).sum()[['Searches']]  # Group the data_chunk and sum the column that we create before\n",
      "C:\\Users\\Pablo Villar\\AppData\\Local\\Temp\\ipykernel_16072\\3168168681.py:15: SettingWithCopyWarning: \n",
      "A value is trying to be set on a copy of a slice from a DataFrame.\n",
      "Try using .loc[row_indexer,col_indexer] = value instead\n",
      "\n",
      "See the caveats in the documentation: https://pandas.pydata.org/pandas-docs/stable/user_guide/indexing.html#returning-a-view-versus-a-copy\n",
      "  data_chunk['Searches'] = 1\n",
      "C:\\Users\\Pablo Villar\\AppData\\Local\\Temp\\ipykernel_16072\\3168168681.py:16: FutureWarning: The default value of numeric_only in DataFrameGroupBy.sum is deprecated. In a future version, numeric_only will default to False. Either specify numeric_only or select only columns which should be valid for the function.\n",
      "  chunk_group = data_chunk.groupby(['Year_Month','Destination']).sum()[['Searches']]  # Group the data_chunk and sum the column that we create before\n",
      "C:\\Users\\Pablo Villar\\AppData\\Local\\Temp\\ipykernel_16072\\3168168681.py:15: SettingWithCopyWarning: \n",
      "A value is trying to be set on a copy of a slice from a DataFrame.\n",
      "Try using .loc[row_indexer,col_indexer] = value instead\n",
      "\n",
      "See the caveats in the documentation: https://pandas.pydata.org/pandas-docs/stable/user_guide/indexing.html#returning-a-view-versus-a-copy\n",
      "  data_chunk['Searches'] = 1\n",
      "C:\\Users\\Pablo Villar\\AppData\\Local\\Temp\\ipykernel_16072\\3168168681.py:16: FutureWarning: The default value of numeric_only in DataFrameGroupBy.sum is deprecated. In a future version, numeric_only will default to False. Either specify numeric_only or select only columns which should be valid for the function.\n",
      "  chunk_group = data_chunk.groupby(['Year_Month','Destination']).sum()[['Searches']]  # Group the data_chunk and sum the column that we create before\n",
      "C:\\Users\\Pablo Villar\\AppData\\Local\\Temp\\ipykernel_16072\\3168168681.py:15: SettingWithCopyWarning: \n",
      "A value is trying to be set on a copy of a slice from a DataFrame.\n",
      "Try using .loc[row_indexer,col_indexer] = value instead\n",
      "\n",
      "See the caveats in the documentation: https://pandas.pydata.org/pandas-docs/stable/user_guide/indexing.html#returning-a-view-versus-a-copy\n",
      "  data_chunk['Searches'] = 1\n",
      "C:\\Users\\Pablo Villar\\AppData\\Local\\Temp\\ipykernel_16072\\3168168681.py:16: FutureWarning: The default value of numeric_only in DataFrameGroupBy.sum is deprecated. In a future version, numeric_only will default to False. Either specify numeric_only or select only columns which should be valid for the function.\n",
      "  chunk_group = data_chunk.groupby(['Year_Month','Destination']).sum()[['Searches']]  # Group the data_chunk and sum the column that we create before\n",
      "C:\\Users\\Pablo Villar\\AppData\\Local\\Temp\\ipykernel_16072\\3168168681.py:15: SettingWithCopyWarning: \n",
      "A value is trying to be set on a copy of a slice from a DataFrame.\n",
      "Try using .loc[row_indexer,col_indexer] = value instead\n",
      "\n",
      "See the caveats in the documentation: https://pandas.pydata.org/pandas-docs/stable/user_guide/indexing.html#returning-a-view-versus-a-copy\n",
      "  data_chunk['Searches'] = 1\n",
      "C:\\Users\\Pablo Villar\\AppData\\Local\\Temp\\ipykernel_16072\\3168168681.py:16: FutureWarning: The default value of numeric_only in DataFrameGroupBy.sum is deprecated. In a future version, numeric_only will default to False. Either specify numeric_only or select only columns which should be valid for the function.\n",
      "  chunk_group = data_chunk.groupby(['Year_Month','Destination']).sum()[['Searches']]  # Group the data_chunk and sum the column that we create before\n",
      "C:\\Users\\Pablo Villar\\AppData\\Local\\Temp\\ipykernel_16072\\3168168681.py:15: SettingWithCopyWarning: \n",
      "A value is trying to be set on a copy of a slice from a DataFrame.\n",
      "Try using .loc[row_indexer,col_indexer] = value instead\n",
      "\n",
      "See the caveats in the documentation: https://pandas.pydata.org/pandas-docs/stable/user_guide/indexing.html#returning-a-view-versus-a-copy\n",
      "  data_chunk['Searches'] = 1\n",
      "C:\\Users\\Pablo Villar\\AppData\\Local\\Temp\\ipykernel_16072\\3168168681.py:16: FutureWarning: The default value of numeric_only in DataFrameGroupBy.sum is deprecated. In a future version, numeric_only will default to False. Either specify numeric_only or select only columns which should be valid for the function.\n",
      "  chunk_group = data_chunk.groupby(['Year_Month','Destination']).sum()[['Searches']]  # Group the data_chunk and sum the column that we create before\n",
      "C:\\Users\\Pablo Villar\\AppData\\Local\\Temp\\ipykernel_16072\\3168168681.py:15: SettingWithCopyWarning: \n",
      "A value is trying to be set on a copy of a slice from a DataFrame.\n",
      "Try using .loc[row_indexer,col_indexer] = value instead\n",
      "\n",
      "See the caveats in the documentation: https://pandas.pydata.org/pandas-docs/stable/user_guide/indexing.html#returning-a-view-versus-a-copy\n",
      "  data_chunk['Searches'] = 1\n",
      "C:\\Users\\Pablo Villar\\AppData\\Local\\Temp\\ipykernel_16072\\3168168681.py:16: FutureWarning: The default value of numeric_only in DataFrameGroupBy.sum is deprecated. In a future version, numeric_only will default to False. Either specify numeric_only or select only columns which should be valid for the function.\n",
      "  chunk_group = data_chunk.groupby(['Year_Month','Destination']).sum()[['Searches']]  # Group the data_chunk and sum the column that we create before\n",
      "C:\\Users\\Pablo Villar\\AppData\\Local\\Temp\\ipykernel_16072\\3168168681.py:15: SettingWithCopyWarning: \n",
      "A value is trying to be set on a copy of a slice from a DataFrame.\n",
      "Try using .loc[row_indexer,col_indexer] = value instead\n",
      "\n",
      "See the caveats in the documentation: https://pandas.pydata.org/pandas-docs/stable/user_guide/indexing.html#returning-a-view-versus-a-copy\n",
      "  data_chunk['Searches'] = 1\n",
      "C:\\Users\\Pablo Villar\\AppData\\Local\\Temp\\ipykernel_16072\\3168168681.py:16: FutureWarning: The default value of numeric_only in DataFrameGroupBy.sum is deprecated. In a future version, numeric_only will default to False. Either specify numeric_only or select only columns which should be valid for the function.\n",
      "  chunk_group = data_chunk.groupby(['Year_Month','Destination']).sum()[['Searches']]  # Group the data_chunk and sum the column that we create before\n",
      "C:\\Users\\Pablo Villar\\AppData\\Local\\Temp\\ipykernel_16072\\3168168681.py:15: SettingWithCopyWarning: \n",
      "A value is trying to be set on a copy of a slice from a DataFrame.\n",
      "Try using .loc[row_indexer,col_indexer] = value instead\n",
      "\n",
      "See the caveats in the documentation: https://pandas.pydata.org/pandas-docs/stable/user_guide/indexing.html#returning-a-view-versus-a-copy\n",
      "  data_chunk['Searches'] = 1\n",
      "C:\\Users\\Pablo Villar\\AppData\\Local\\Temp\\ipykernel_16072\\3168168681.py:16: FutureWarning: The default value of numeric_only in DataFrameGroupBy.sum is deprecated. In a future version, numeric_only will default to False. Either specify numeric_only or select only columns which should be valid for the function.\n",
      "  chunk_group = data_chunk.groupby(['Year_Month','Destination']).sum()[['Searches']]  # Group the data_chunk and sum the column that we create before\n",
      "C:\\Users\\Pablo Villar\\AppData\\Local\\Temp\\ipykernel_16072\\3168168681.py:15: SettingWithCopyWarning: \n",
      "A value is trying to be set on a copy of a slice from a DataFrame.\n",
      "Try using .loc[row_indexer,col_indexer] = value instead\n",
      "\n",
      "See the caveats in the documentation: https://pandas.pydata.org/pandas-docs/stable/user_guide/indexing.html#returning-a-view-versus-a-copy\n",
      "  data_chunk['Searches'] = 1\n",
      "C:\\Users\\Pablo Villar\\AppData\\Local\\Temp\\ipykernel_16072\\3168168681.py:16: FutureWarning: The default value of numeric_only in DataFrameGroupBy.sum is deprecated. In a future version, numeric_only will default to False. Either specify numeric_only or select only columns which should be valid for the function.\n",
      "  chunk_group = data_chunk.groupby(['Year_Month','Destination']).sum()[['Searches']]  # Group the data_chunk and sum the column that we create before\n",
      "C:\\Users\\Pablo Villar\\AppData\\Local\\Temp\\ipykernel_16072\\3168168681.py:15: SettingWithCopyWarning: \n",
      "A value is trying to be set on a copy of a slice from a DataFrame.\n",
      "Try using .loc[row_indexer,col_indexer] = value instead\n",
      "\n",
      "See the caveats in the documentation: https://pandas.pydata.org/pandas-docs/stable/user_guide/indexing.html#returning-a-view-versus-a-copy\n",
      "  data_chunk['Searches'] = 1\n",
      "C:\\Users\\Pablo Villar\\AppData\\Local\\Temp\\ipykernel_16072\\3168168681.py:16: FutureWarning: The default value of numeric_only in DataFrameGroupBy.sum is deprecated. In a future version, numeric_only will default to False. Either specify numeric_only or select only columns which should be valid for the function.\n",
      "  chunk_group = data_chunk.groupby(['Year_Month','Destination']).sum()[['Searches']]  # Group the data_chunk and sum the column that we create before\n",
      "C:\\Users\\Pablo Villar\\AppData\\Local\\Temp\\ipykernel_16072\\3168168681.py:15: SettingWithCopyWarning: \n",
      "A value is trying to be set on a copy of a slice from a DataFrame.\n",
      "Try using .loc[row_indexer,col_indexer] = value instead\n",
      "\n",
      "See the caveats in the documentation: https://pandas.pydata.org/pandas-docs/stable/user_guide/indexing.html#returning-a-view-versus-a-copy\n",
      "  data_chunk['Searches'] = 1\n",
      "C:\\Users\\Pablo Villar\\AppData\\Local\\Temp\\ipykernel_16072\\3168168681.py:16: FutureWarning: The default value of numeric_only in DataFrameGroupBy.sum is deprecated. In a future version, numeric_only will default to False. Either specify numeric_only or select only columns which should be valid for the function.\n",
      "  chunk_group = data_chunk.groupby(['Year_Month','Destination']).sum()[['Searches']]  # Group the data_chunk and sum the column that we create before\n",
      "C:\\Users\\Pablo Villar\\AppData\\Local\\Temp\\ipykernel_16072\\3168168681.py:15: SettingWithCopyWarning: \n",
      "A value is trying to be set on a copy of a slice from a DataFrame.\n",
      "Try using .loc[row_indexer,col_indexer] = value instead\n",
      "\n",
      "See the caveats in the documentation: https://pandas.pydata.org/pandas-docs/stable/user_guide/indexing.html#returning-a-view-versus-a-copy\n",
      "  data_chunk['Searches'] = 1\n",
      "C:\\Users\\Pablo Villar\\AppData\\Local\\Temp\\ipykernel_16072\\3168168681.py:16: FutureWarning: The default value of numeric_only in DataFrameGroupBy.sum is deprecated. In a future version, numeric_only will default to False. Either specify numeric_only or select only columns which should be valid for the function.\n",
      "  chunk_group = data_chunk.groupby(['Year_Month','Destination']).sum()[['Searches']]  # Group the data_chunk and sum the column that we create before\n"
     ]
    },
    {
     "data": {
      "text/plain": [
       "<AxesSubplot: title={'center': 'Searches by Airport Destination '}, xlabel='Year_Month', ylabel='Searches'>"
      ]
     },
     "metadata": {},
     "output_type": "display_data"
    },
    {
     "data": {
      "image/png": "[encoded data removed]",
      "text/plain": [
       "<Figure size 1500x800 with 1 Axes>"
      ]
     },
     "metadata": {},
     "output_type": "display_data"
    }
   ],
   "source": [
    "data_plot(path_searches)"
   ]
  },
  {
   "cell_type": "markdown",
   "id": "cfcce1d5",
   "metadata": {},
   "source": [
    "# Exercise 4\n",
    "\n",
    "**Match searches with bookings**\n",
    "\n",
    "- For every search in the searches file, find out whether the search ended up in a booking or not (using the info in the bookings file). For instance, search and booking origin and destination should match.\n",
    "- For the bookings file, origin and destination are the columns `dep_port` and `arr_port`, respectively.\n",
    "- Generate a CSV file with the search data, and an additional field, containing 1 if the search ended up in a booking, and 0 otherwise."
   ]
  },
  {
   "cell_type": "markdown",
   "id": "37cdd8a4",
   "metadata": {},
   "source": [
    "### Modules and libraries"
   ]
  },
  {
   "cell_type": "code",
   "execution_count": null,
   "id": "66ffc27f",
   "metadata": {},
   "outputs": [],
   "source": [
    "import numpy as np\n",
    "import pandas as pd"
   ]
  },
  {
   "cell_type": "markdown",
   "id": "ba5ac58e",
   "metadata": {},
   "source": [
    "Reading the data with chunks\n",
    "\n",
    "**SEARCHES**\n",
    "<hr>"
   ]
  },
  {
   "cell_type": "code",
   "execution_count": null,
   "id": "d51fe14d",
   "metadata": {},
   "outputs": [
    {
     "name": "stderr",
     "output_type": "stream",
     "text": [
      "<timed exec>:16: FutureWarning: The frame.append method is deprecated and will be removed from pandas in a future version. Use pandas.concat instead.\n"
     ]
    },
    {
     "name": "stdout",
     "output_type": "stream",
     "text": [
      "Chunk: 1, size of chunk 358333\n",
      "==================================================================\n"
     ]
    },
    {
     "name": "stderr",
     "output_type": "stream",
     "text": [
      "<timed exec>:16: FutureWarning: The frame.append method is deprecated and will be removed from pandas in a future version. Use pandas.concat instead.\n"
     ]
    },
    {
     "name": "stdout",
     "output_type": "stream",
     "text": [
      "Chunk: 2, size of chunk 358333\n",
      "==================================================================\n"
     ]
    },
    {
     "name": "stderr",
     "output_type": "stream",
     "text": [
      "<timed exec>:16: FutureWarning: The frame.append method is deprecated and will be removed from pandas in a future version. Use pandas.concat instead.\n"
     ]
    },
    {
     "name": "stdout",
     "output_type": "stream",
     "text": [
      "Chunk: 3, size of chunk 358333\n",
      "==================================================================\n"
     ]
    },
    {
     "name": "stderr",
     "output_type": "stream",
     "text": [
      "<timed exec>:16: FutureWarning: The frame.append method is deprecated and will be removed from pandas in a future version. Use pandas.concat instead.\n"
     ]
    },
    {
     "name": "stdout",
     "output_type": "stream",
     "text": [
      "Chunk: 4, size of chunk 358333\n",
      "==================================================================\n"
     ]
    },
    {
     "name": "stderr",
     "output_type": "stream",
     "text": [
      "<timed exec>:16: FutureWarning: The frame.append method is deprecated and will be removed from pandas in a future version. Use pandas.concat instead.\n"
     ]
    },
    {
     "name": "stdout",
     "output_type": "stream",
     "text": [
      "Chunk: 5, size of chunk 358333\n",
      "==================================================================\n"
     ]
    },
    {
     "name": "stderr",
     "output_type": "stream",
     "text": [
      "<timed exec>:16: FutureWarning: The frame.append method is deprecated and will be removed from pandas in a future version. Use pandas.concat instead.\n"
     ]
    },
    {
     "name": "stdout",
     "output_type": "stream",
     "text": [
      "Chunk: 6, size of chunk 358333\n",
      "==================================================================\n"
     ]
    },
    {
     "name": "stderr",
     "output_type": "stream",
     "text": [
      "<timed exec>:16: FutureWarning: The frame.append method is deprecated and will be removed from pandas in a future version. Use pandas.concat instead.\n"
     ]
    },
    {
     "name": "stdout",
     "output_type": "stream",
     "text": [
      "Chunk: 7, size of chunk 358333\n",
      "==================================================================\n"
     ]
    },
    {
     "name": "stderr",
     "output_type": "stream",
     "text": [
      "<timed exec>:16: FutureWarning: The frame.append method is deprecated and will be removed from pandas in a future version. Use pandas.concat instead.\n"
     ]
    },
    {
     "name": "stdout",
     "output_type": "stream",
     "text": [
      "Chunk: 8, size of chunk 358333\n",
      "==================================================================\n"
     ]
    },
    {
     "name": "stderr",
     "output_type": "stream",
     "text": [
      "<timed exec>:16: FutureWarning: The frame.append method is deprecated and will be removed from pandas in a future version. Use pandas.concat instead.\n"
     ]
    },
    {
     "name": "stdout",
     "output_type": "stream",
     "text": [
      "Chunk: 9, size of chunk 358333\n",
      "==================================================================\n"
     ]
    },
    {
     "name": "stderr",
     "output_type": "stream",
     "text": [
      "<timed exec>:16: FutureWarning: The frame.append method is deprecated and will be removed from pandas in a future version. Use pandas.concat instead.\n"
     ]
    },
    {
     "name": "stdout",
     "output_type": "stream",
     "text": [
      "Chunk: 10, size of chunk 358333\n",
      "==================================================================\n"
     ]
    },
    {
     "name": "stderr",
     "output_type": "stream",
     "text": [
      "<timed exec>:16: FutureWarning: The frame.append method is deprecated and will be removed from pandas in a future version. Use pandas.concat instead.\n"
     ]
    },
    {
     "name": "stdout",
     "output_type": "stream",
     "text": [
      "Chunk: 11, size of chunk 358334\n",
      "==================================================================\n",
      "CPU times: total: 33.8 s\n",
      "Wall time: 1min 37s\n"
     ]
    }
   ],
   "source": [
    "%%time\n",
    "\n",
    "interest_columns_searches = [0, 5, 6, 11]\n",
    "\n",
    "data_iterator = pd.read_csv(path_searches, \n",
    "                            chunksize=2e6,\n",
    "                            # nrows=2e6,              # To run the function with sample data\n",
    "                            sep='^', \n",
    "                            compression='bz2', \n",
    "                            low_memory=False,         # set low_memory = False means when the file is larger, read_csv loads the file in chunks. If an entire chunk has all numeric values, read_csv will save it as numeric. If it encounters some non-numeric values in a chunk, then it will save the values in that chunk as non-numeric (object).\n",
    "                            usecols=interest_columns_searches,\n",
    "                            dtype=str)\n",
    "\n",
    "# Create a dataframe where we go to append the chunks\n",
    "searches = pd.DataFrame()\n",
    "\n",
    "for i, data_chunk in enumerate(data_iterator):\n",
    "    searches = searches.append(data_chunk)\n",
    "    searches.drop_duplicates(inplace=True)                              # Drop duplicates cost a lot of time\n",
    "    searches.to_csv(path_searches_no_dup, sep='^', index=False)         # Save the data in a new csv\n",
    "    print('Chunk: %d, size of chunk %d' %(i+1, searches.shape[0]))\n",
    "    print(\"=\"*66)       # Separator"
   ]
  },
  {
   "cell_type": "code",
   "execution_count": null,
   "id": "c15be3db",
   "metadata": {},
   "outputs": [
    {
     "data": {
      "text/plain": [
       "Date              0\n",
       "Origin            1\n",
       "Destination       1\n",
       "Seg1Date       1026\n",
       "dtype: int64"
      ]
     },
     "metadata": {},
     "output_type": "display_data"
    }
   ],
   "source": [
    "searches.isna().sum()"
   ]
  },
  {
   "cell_type": "code",
   "execution_count": null,
   "id": "0d24b0b8",
   "metadata": {},
   "outputs": [
    {
     "data": {
      "text/plain": [
       "20390197     True\n",
       "239330      False\n",
       "239338      False\n",
       "239337      False\n",
       "239336      False\n",
       "            ...  \n",
       "119644      False\n",
       "119643      False\n",
       "119642      False\n",
       "119641      False\n",
       "179496      False\n",
       "Name: Destination, Length: 358334, dtype: bool"
      ]
     },
     "metadata": {},
     "output_type": "display_data"
    }
   ],
   "source": [
    "wrong_len_searches_des = searches['Destination'].str.len() < 3\n",
    "wrong_len_searches_des.sort_values(ascending=False)"
   ]
  },
  {
   "cell_type": "code",
   "execution_count": null,
   "id": "dba6d4d2",
   "metadata": {},
   "outputs": [
    {
     "data": {
      "text/plain": [
       "0           False\n",
       "239330      False\n",
       "239338      False\n",
       "239337      False\n",
       "239336      False\n",
       "            ...  \n",
       "119644      False\n",
       "119643      False\n",
       "119642      False\n",
       "119641      False\n",
       "20390197    False\n",
       "Name: Origin, Length: 358334, dtype: bool"
      ]
     },
     "metadata": {},
     "output_type": "display_data"
    }
   ],
   "source": [
    "# Wrong lenght in the departure airport code in the searches file\n",
    "\n",
    "wrong_len_s_dep = searches[\"Origin\"].str.len() < 3\n",
    "wrong_len_s_dep.sort_values(ascending= False)"
   ]
  },
  {
   "cell_type": "code",
   "execution_count": null,
   "id": "4be2c5ee",
   "metadata": {},
   "outputs": [
    {
     "data": {
      "text/plain": [
       "'HA'"
      ]
     },
     "metadata": {},
     "output_type": "display_data"
    }
   ],
   "source": [
    "searches['Destination'][20390197]"
   ]
  },
  {
   "cell_type": "code",
   "execution_count": null,
   "id": "2160a185",
   "metadata": {},
   "outputs": [],
   "source": [
    "searches = searches.drop([20390197])"
   ]
  },
  {
   "cell_type": "code",
   "execution_count": null,
   "id": "43bae435",
   "metadata": {},
   "outputs": [
    {
     "data": {
      "text/plain": [
       "0"
      ]
     },
     "metadata": {},
     "output_type": "display_data"
    }
   ],
   "source": [
    "np.count_nonzero(wrong_len_s_dep)"
   ]
  },
  {
   "cell_type": "markdown",
   "id": "53d9a102",
   "metadata": {},
   "source": [
    "**BOOKINGS**\n",
    "<hr>"
   ]
  },
  {
   "cell_type": "code",
   "execution_count": null,
   "id": "bc0dc445",
   "metadata": {},
   "outputs": [
    {
     "name": "stderr",
     "output_type": "stream",
     "text": [
      "<timed exec>:18: FutureWarning: The frame.append method is deprecated and will be removed from pandas in a future version. Use pandas.concat instead.\n"
     ]
    },
    {
     "name": "stdout",
     "output_type": "stream",
     "text": [
      "Chunk: 1, size of chunk 708879\n",
      "==================================================================\n"
     ]
    },
    {
     "name": "stderr",
     "output_type": "stream",
     "text": [
      "<timed exec>:18: FutureWarning: The frame.append method is deprecated and will be removed from pandas in a future version. Use pandas.concat instead.\n"
     ]
    },
    {
     "name": "stdout",
     "output_type": "stream",
     "text": [
      "Chunk: 2, size of chunk 708879\n",
      "==================================================================\n"
     ]
    },
    {
     "name": "stderr",
     "output_type": "stream",
     "text": [
      "<timed exec>:18: FutureWarning: The frame.append method is deprecated and will be removed from pandas in a future version. Use pandas.concat instead.\n"
     ]
    },
    {
     "name": "stdout",
     "output_type": "stream",
     "text": [
      "Chunk: 3, size of chunk 708882\n",
      "==================================================================\n"
     ]
    },
    {
     "name": "stderr",
     "output_type": "stream",
     "text": [
      "<timed exec>:18: FutureWarning: The frame.append method is deprecated and will be removed from pandas in a future version. Use pandas.concat instead.\n"
     ]
    },
    {
     "name": "stdout",
     "output_type": "stream",
     "text": [
      "Chunk: 4, size of chunk 708882\n",
      "==================================================================\n"
     ]
    },
    {
     "name": "stderr",
     "output_type": "stream",
     "text": [
      "<timed exec>:18: FutureWarning: The frame.append method is deprecated and will be removed from pandas in a future version. Use pandas.concat instead.\n"
     ]
    },
    {
     "name": "stdout",
     "output_type": "stream",
     "text": [
      "Chunk: 5, size of chunk 708882\n",
      "==================================================================\n"
     ]
    },
    {
     "name": "stderr",
     "output_type": "stream",
     "text": [
      "<timed exec>:18: FutureWarning: The frame.append method is deprecated and will be removed from pandas in a future version. Use pandas.concat instead.\n"
     ]
    },
    {
     "name": "stdout",
     "output_type": "stream",
     "text": [
      "Chunk: 6, size of chunk 708882\n",
      "==================================================================\n",
      "CPU times: total: 19.3 s\n",
      "Wall time: 1min 31s\n"
     ]
    }
   ],
   "source": [
    "%%time\n",
    "\n",
    "interest_columns_bookings = [6,9,12,32]             # Taking the index of the columns and don't clean the blank spaces\n",
    "\n",
    "data_iterator = pd.read_csv(path_bookings,\n",
    "                            chunksize = 2e6,\n",
    "                            sep = '^',\n",
    "                            compression = 'bz2',\n",
    "                            # nrows = 2e6,\n",
    "                            usecols = interest_columns_bookings,\n",
    "                            low_memory=True, \n",
    "                            dtype=str)\n",
    "\n",
    "bookings = pd.DataFrame()\n",
    "\n",
    "for i, data_chunk in enumerate(data_iterator):\n",
    "    #data_chunk = bookings_data_preprocessing(data_chunk)\n",
    "    #data_chunk.reset_index(inplace=True)\n",
    "    data_chunk['Booked'] = 1               # Create the column of values for bookings\n",
    "    bookings = bookings.append(data_chunk)\n",
    "    bookings.drop_duplicates(inplace=True)\n",
    "    print(\"Chunk: %d, size of chunk %d\" %(i+1, bookings.shape[0]))\n",
    "    print(\"=\"*66)"
   ]
  },
  {
   "cell_type": "code",
   "execution_count": null,
   "id": "3799f9c3",
   "metadata": {},
   "outputs": [],
   "source": [
    "bookings['dep_port'] = bookings['dep_port'].str.strip().str.upper()\n",
    "bookings['arr_port'] = bookings['arr_port'].str.strip().str.upper()"
   ]
  },
  {
   "cell_type": "code",
   "execution_count": null,
   "id": "f4b978b5",
   "metadata": {},
   "outputs": [
    {
     "data": {
      "text/plain": [
       "5000007     True\n",
       "0          False\n",
       "666630     False\n",
       "666622     False\n",
       "666623     False\n",
       "           ...  \n",
       "334139     False\n",
       "334140     False\n",
       "334141     False\n",
       "334142     False\n",
       "5000008    False\n",
       "Name: arr_port, Length: 708882, dtype: bool"
      ]
     },
     "metadata": {},
     "output_type": "display_data"
    }
   ],
   "source": [
    "wrong_len_b_arr = bookings[\"arr_port\"].str.len() < 3\n",
    "wrong_len_b_arr.sort_values(ascending=False)"
   ]
  },
  {
   "cell_type": "code",
   "execution_count": null,
   "id": "18df1d87",
   "metadata": {},
   "outputs": [
    {
     "data": {
      "text/plain": [
       "5000007     True\n",
       "0          False\n",
       "666630     False\n",
       "666622     False\n",
       "666623     False\n",
       "           ...  \n",
       "334139     False\n",
       "334140     False\n",
       "334141     False\n",
       "334142     False\n",
       "5000008    False\n",
       "Name: dep_port, Length: 708882, dtype: bool"
      ]
     },
     "metadata": {},
     "output_type": "display_data"
    }
   ],
   "source": [
    "wrong_len_b_dep = bookings[\"dep_port\"].str.len() < 3\n",
    "wrong_len_b_dep.sort_values(ascending=False)"
   ]
  },
  {
   "cell_type": "code",
   "execution_count": null,
   "id": "afd5ad22",
   "metadata": {},
   "outputs": [],
   "source": [
    "# Drop the Na values with the index\n",
    "\n",
    "bookings = bookings.drop([5000007])"
   ]
  },
  {
   "cell_type": "code",
   "execution_count": null,
   "id": "f6d4fc34",
   "metadata": {},
   "outputs": [
    {
     "data": {
      "text/plain": [
       "0          False\n",
       "666630     False\n",
       "666622     False\n",
       "666623     False\n",
       "666624     False\n",
       "           ...  \n",
       "334139     False\n",
       "334140     False\n",
       "334141     False\n",
       "334142     False\n",
       "5000008    False\n",
       "Name: arr_port, Length: 708881, dtype: bool"
      ]
     },
     "metadata": {},
     "output_type": "display_data"
    }
   ],
   "source": [
    "wrong_len_b_arr = bookings[\"arr_port\"].str.len() < 3\n",
    "wrong_len_b_arr.sort_values(ascending=False)"
   ]
  },
  {
   "cell_type": "code",
   "execution_count": null,
   "id": "0a5d503b",
   "metadata": {},
   "outputs": [
    {
     "data": {
      "text/plain": [
       "0"
      ]
     },
     "metadata": {},
     "output_type": "display_data"
    }
   ],
   "source": [
    "np.count_nonzero(wrong_len_b_arr)   # Counts the number of non-zero values in the array"
   ]
  },
  {
   "cell_type": "code",
   "execution_count": null,
   "id": "c3b0acc6",
   "metadata": {},
   "outputs": [
    {
     "data": {
      "text/plain": [
       "Date              0\n",
       "Origin            1\n",
       "Destination       1\n",
       "Seg1Date       1026\n",
       "dtype: int64"
      ]
     },
     "metadata": {},
     "output_type": "display_data"
    }
   ],
   "source": [
    "searches.isna().sum()"
   ]
  },
  {
   "cell_type": "code",
   "execution_count": null,
   "id": "7fbfbbf6",
   "metadata": {},
   "outputs": [
    {
     "data": {
      "text/plain": [
       "20390197     True\n",
       "239330      False\n",
       "239338      False\n",
       "239337      False\n",
       "239336      False\n",
       "            ...  \n",
       "119644      False\n",
       "119643      False\n",
       "119642      False\n",
       "119641      False\n",
       "179496      False\n",
       "Name: Destination, Length: 358334, dtype: bool"
      ]
     },
     "metadata": {},
     "output_type": "display_data"
    }
   ],
   "source": [
    "wrong_len_searches_des = searches['Destination'].str.len() < 3\n",
    "wrong_len_searches_des.sort_values(ascending=False)"
   ]
  },
  {
   "cell_type": "code",
   "execution_count": null,
   "id": "1a784cfb",
   "metadata": {},
   "outputs": [
    {
     "data": {
      "text/plain": [
       "0           False\n",
       "239330      False\n",
       "239338      False\n",
       "239337      False\n",
       "239336      False\n",
       "            ...  \n",
       "119644      False\n",
       "119643      False\n",
       "119642      False\n",
       "119641      False\n",
       "20390197    False\n",
       "Name: Origin, Length: 358334, dtype: bool"
      ]
     },
     "metadata": {},
     "output_type": "display_data"
    }
   ],
   "source": [
    "# Wrong lenght in the departure airport code in the searches file\n",
    "\n",
    "wrong_len_s_dep = searches[\"Origin\"].str.len() < 3\n",
    "wrong_len_s_dep.sort_values(ascending= False)"
   ]
  },
  {
   "cell_type": "code",
   "execution_count": null,
   "id": "259e6ab9",
   "metadata": {},
   "outputs": [
    {
     "data": {
      "text/plain": [
       "'HA'"
      ]
     },
     "metadata": {},
     "output_type": "display_data"
    }
   ],
   "source": [
    "searches['Destination'][20390197]"
   ]
  },
  {
   "cell_type": "code",
   "execution_count": null,
   "id": "89657796",
   "metadata": {},
   "outputs": [],
   "source": [
    "searches = searches.drop([20390197])"
   ]
  },
  {
   "cell_type": "code",
   "execution_count": null,
   "id": "744b8962",
   "metadata": {},
   "outputs": [
    {
     "data": {
      "text/plain": [
       "0"
      ]
     },
     "metadata": {},
     "output_type": "display_data"
    }
   ],
   "source": [
    "np.count_nonzero(wrong_len_s_dep)"
   ]
  },
  {
   "cell_type": "markdown",
   "id": "94f088d4",
   "metadata": {},
   "source": [
    "Bookings columns"
   ]
  },
  {
   "cell_type": "code",
   "execution_count": null,
   "id": "fb009690",
   "metadata": {},
   "outputs": [],
   "source": [
    "bookings.columns = bookings.columns.str.strip()"
   ]
  },
  {
   "cell_type": "code",
   "execution_count": null,
   "id": "b499a9db",
   "metadata": {},
   "outputs": [
    {
     "data": {
      "text/plain": [
       "Index(['cre_date', 'dep_port', 'arr_port', 'brd_time', 'Booked'], dtype='object')"
      ]
     },
     "metadata": {},
     "output_type": "display_data"
    }
   ],
   "source": [
    "bookings.columns"
   ]
  },
  {
   "cell_type": "markdown",
   "id": "f17a6c25",
   "metadata": {},
   "source": [
    "Dates"
   ]
  },
  {
   "cell_type": "code",
   "execution_count": null,
   "id": "d9e619d0",
   "metadata": {},
   "outputs": [],
   "source": [
    "searches[\"Date\"] = searches[\"Date\"].str[0:10]\n",
    "searches[\"Seg1Date\"] = searches[\"Seg1Date\"].str[0:10]\n",
    "bookings[\"brd_time\"] = bookings[\"brd_time\"].str[0:10]\n",
    "bookings[\"cre_date\"] = bookings[\"cre_date\"].str[0:10]"
   ]
  },
  {
   "cell_type": "code",
   "execution_count": null,
   "id": "c9c85da8",
   "metadata": {},
   "outputs": [
    {
     "data": {
      "text/html": [
       "<div>\n",
       "<style scoped>\n",
       "    .dataframe tbody tr th:only-of-type {\n",
       "        vertical-align: middle;\n",
       "    }\n",
       "\n",
       "    .dataframe tbody tr th {\n",
       "        vertical-align: top;\n",
       "    }\n",
       "\n",
       "    .dataframe thead th {\n",
       "        text-align: right;\n",
       "    }\n",
       "</style>\n",
       "<table border=\"1\" class=\"dataframe\">\n",
       "  <thead>\n",
       "    <tr style=\"text-align: right;\">\n",
       "      <th></th>\n",
       "      <th>cre_date</th>\n",
       "      <th>dep_port</th>\n",
       "      <th>arr_port</th>\n",
       "      <th>brd_time</th>\n",
       "      <th>Booked</th>\n",
       "    </tr>\n",
       "  </thead>\n",
       "  <tbody>\n",
       "    <tr>\n",
       "      <th>0</th>\n",
       "      <td>2013-02-22</td>\n",
       "      <td>ZRH</td>\n",
       "      <td>LHR</td>\n",
       "      <td>2013-03-07</td>\n",
       "      <td>1</td>\n",
       "    </tr>\n",
       "    <tr>\n",
       "      <th>1</th>\n",
       "      <td>2013-03-26</td>\n",
       "      <td>SAL</td>\n",
       "      <td>CLT</td>\n",
       "      <td>2013-04-12</td>\n",
       "      <td>1</td>\n",
       "    </tr>\n",
       "    <tr>\n",
       "      <th>2</th>\n",
       "      <td>2013-03-26</td>\n",
       "      <td>SAL</td>\n",
       "      <td>CLT</td>\n",
       "      <td>2013-07-15</td>\n",
       "      <td>1</td>\n",
       "    </tr>\n",
       "    <tr>\n",
       "      <th>3</th>\n",
       "      <td>2013-03-26</td>\n",
       "      <td>AKL</td>\n",
       "      <td>SVO</td>\n",
       "      <td>2013-04-24</td>\n",
       "      <td>1</td>\n",
       "    </tr>\n",
       "    <tr>\n",
       "      <th>4</th>\n",
       "      <td>2013-03-26</td>\n",
       "      <td>AKL</td>\n",
       "      <td>SVO</td>\n",
       "      <td>2013-05-14</td>\n",
       "      <td>1</td>\n",
       "    </tr>\n",
       "  </tbody>\n",
       "</table>\n",
       "</div>"
      ],
      "text/plain": [
       "     cre_date dep_port arr_port    brd_time  Booked\n",
       "0  2013-02-22      ZRH      LHR  2013-03-07       1\n",
       "1  2013-03-26      SAL      CLT  2013-04-12       1\n",
       "2  2013-03-26      SAL      CLT  2013-07-15       1\n",
       "3  2013-03-26      AKL      SVO  2013-04-24       1\n",
       "4  2013-03-26      AKL      SVO  2013-05-14       1"
      ]
     },
     "metadata": {},
     "output_type": "display_data"
    }
   ],
   "source": [
    "bookings.head()"
   ]
  },
  {
   "cell_type": "code",
   "execution_count": null,
   "id": "8ec0800a",
   "metadata": {},
   "outputs": [
    {
     "data": {
      "text/html": [
       "<div>\n",
       "<style scoped>\n",
       "    .dataframe tbody tr th:only-of-type {\n",
       "        vertical-align: middle;\n",
       "    }\n",
       "\n",
       "    .dataframe tbody tr th {\n",
       "        vertical-align: top;\n",
       "    }\n",
       "\n",
       "    .dataframe thead th {\n",
       "        text-align: right;\n",
       "    }\n",
       "</style>\n",
       "<table border=\"1\" class=\"dataframe\">\n",
       "  <thead>\n",
       "    <tr style=\"text-align: right;\">\n",
       "      <th></th>\n",
       "      <th>Date</th>\n",
       "      <th>Origin</th>\n",
       "      <th>Destination</th>\n",
       "      <th>Seg1Date</th>\n",
       "    </tr>\n",
       "  </thead>\n",
       "  <tbody>\n",
       "    <tr>\n",
       "      <th>0</th>\n",
       "      <td>2013-01-01</td>\n",
       "      <td>TXL</td>\n",
       "      <td>AUH</td>\n",
       "      <td>2013-01-26</td>\n",
       "    </tr>\n",
       "    <tr>\n",
       "      <th>1</th>\n",
       "      <td>2013-01-01</td>\n",
       "      <td>ATH</td>\n",
       "      <td>MIL</td>\n",
       "      <td>2013-01-04</td>\n",
       "    </tr>\n",
       "    <tr>\n",
       "      <th>2</th>\n",
       "      <td>2013-01-01</td>\n",
       "      <td>ICT</td>\n",
       "      <td>SFO</td>\n",
       "      <td>2013-08-02</td>\n",
       "    </tr>\n",
       "    <tr>\n",
       "      <th>3</th>\n",
       "      <td>2013-01-01</td>\n",
       "      <td>RNB</td>\n",
       "      <td>ARN</td>\n",
       "      <td>2013-01-02</td>\n",
       "    </tr>\n",
       "    <tr>\n",
       "      <th>4</th>\n",
       "      <td>2013-01-01</td>\n",
       "      <td>OSL</td>\n",
       "      <td>MAD</td>\n",
       "      <td>2013-03-22</td>\n",
       "    </tr>\n",
       "  </tbody>\n",
       "</table>\n",
       "</div>"
      ],
      "text/plain": [
       "         Date Origin Destination    Seg1Date\n",
       "0  2013-01-01    TXL         AUH  2013-01-26\n",
       "1  2013-01-01    ATH         MIL  2013-01-04\n",
       "2  2013-01-01    ICT         SFO  2013-08-02\n",
       "3  2013-01-01    RNB         ARN  2013-01-02\n",
       "4  2013-01-01    OSL         MAD  2013-03-22"
      ]
     },
     "metadata": {},
     "output_type": "display_data"
    }
   ],
   "source": [
    "searches.head()"
   ]
  },
  {
   "cell_type": "code",
   "execution_count": null,
   "id": "b391f775",
   "metadata": {},
   "outputs": [
    {
     "data": {
      "text/plain": [
       "Date              0\n",
       "Origin            1\n",
       "Destination       1\n",
       "Seg1Date       1025\n",
       "dtype: int64"
      ]
     },
     "metadata": {},
     "output_type": "display_data"
    }
   ],
   "source": [
    "searches.isna().sum()"
   ]
  },
  {
   "cell_type": "code",
   "execution_count": null,
   "id": "feb445d7",
   "metadata": {},
   "outputs": [],
   "source": [
    "searches.dropna(inplace=True)"
   ]
  },
  {
   "cell_type": "code",
   "execution_count": null,
   "id": "8a80cb9f",
   "metadata": {},
   "outputs": [
    {
     "name": "stdout",
     "output_type": "stream",
     "text": [
      "<class 'pandas.core.frame.DataFrame'>\n",
      "Int64Index: 357308 entries, 0 to 358999\n",
      "Data columns (total 4 columns):\n",
      " #   Column       Non-Null Count   Dtype \n",
      "---  ------       --------------   ----- \n",
      " 0   Date         357308 non-null  object\n",
      " 1   Origin       357308 non-null  object\n",
      " 2   Destination  357308 non-null  object\n",
      " 3   Seg1Date     357308 non-null  object\n",
      "dtypes: object(4)\n",
      "memory usage: 13.6+ MB\n"
     ]
    }
   ],
   "source": [
    "searches.info()"
   ]
  },
  {
   "cell_type": "markdown",
   "id": "dedad92c",
   "metadata": {},
   "source": [
    "We said in the sample Seg1Date not match with brd_time so let's drop it and brd_time too"
   ]
  },
  {
   "cell_type": "code",
   "execution_count": null,
   "id": "4544d02b",
   "metadata": {},
   "outputs": [],
   "source": [
    "searches.drop([\"Seg1Date\"], axis = 1, inplace= True)\n",
    "bookings.drop([\"brd_time\"], axis = 1, inplace= True)"
   ]
  },
  {
   "cell_type": "code",
   "execution_count": null,
   "id": "640865b9",
   "metadata": {},
   "outputs": [],
   "source": [
    "searches_bookings = searches.merge(bookings, how='left',\n",
    "                                   left_on= ['Date','Origin','Destination'],\n",
    "                                   right_on= ['cre_date','dep_port','arr_port'])"
   ]
  },
  {
   "cell_type": "code",
   "execution_count": null,
   "id": "d52c598b",
   "metadata": {},
   "outputs": [
    {
     "data": {
      "text/plain": [
       "array([nan,  1.])"
      ]
     },
     "metadata": {},
     "output_type": "display_data"
    }
   ],
   "source": [
    "searches_bookings['Booked'].unique()"
   ]
  },
  {
   "cell_type": "code",
   "execution_count": null,
   "id": "f7124d1e",
   "metadata": {},
   "outputs": [
    {
     "data": {
      "text/html": [
       "<div>\n",
       "<style scoped>\n",
       "    .dataframe tbody tr th:only-of-type {\n",
       "        vertical-align: middle;\n",
       "    }\n",
       "\n",
       "    .dataframe tbody tr th {\n",
       "        vertical-align: top;\n",
       "    }\n",
       "\n",
       "    .dataframe thead th {\n",
       "        text-align: right;\n",
       "    }\n",
       "</style>\n",
       "<table border=\"1\" class=\"dataframe\">\n",
       "  <thead>\n",
       "    <tr style=\"text-align: right;\">\n",
       "      <th></th>\n",
       "      <th>Date</th>\n",
       "      <th>Origin</th>\n",
       "      <th>Destination</th>\n",
       "      <th>cre_date</th>\n",
       "      <th>dep_port</th>\n",
       "      <th>arr_port</th>\n",
       "      <th>Booked</th>\n",
       "    </tr>\n",
       "  </thead>\n",
       "  <tbody>\n",
       "    <tr>\n",
       "      <th>27</th>\n",
       "      <td>2013-01-01</td>\n",
       "      <td>RUH</td>\n",
       "      <td>JED</td>\n",
       "      <td>2013-01-01</td>\n",
       "      <td>RUH</td>\n",
       "      <td>JED</td>\n",
       "      <td>1.0</td>\n",
       "    </tr>\n",
       "    <tr>\n",
       "      <th>28</th>\n",
       "      <td>2013-01-01</td>\n",
       "      <td>RUH</td>\n",
       "      <td>JED</td>\n",
       "      <td>2013-01-01</td>\n",
       "      <td>RUH</td>\n",
       "      <td>JED</td>\n",
       "      <td>1.0</td>\n",
       "    </tr>\n",
       "    <tr>\n",
       "      <th>29</th>\n",
       "      <td>2013-01-01</td>\n",
       "      <td>RUH</td>\n",
       "      <td>JED</td>\n",
       "      <td>2013-01-01</td>\n",
       "      <td>RUH</td>\n",
       "      <td>JED</td>\n",
       "      <td>1.0</td>\n",
       "    </tr>\n",
       "    <tr>\n",
       "      <th>30</th>\n",
       "      <td>2013-01-01</td>\n",
       "      <td>RUH</td>\n",
       "      <td>JED</td>\n",
       "      <td>2013-01-01</td>\n",
       "      <td>RUH</td>\n",
       "      <td>JED</td>\n",
       "      <td>1.0</td>\n",
       "    </tr>\n",
       "    <tr>\n",
       "      <th>31</th>\n",
       "      <td>2013-01-01</td>\n",
       "      <td>RUH</td>\n",
       "      <td>JED</td>\n",
       "      <td>2013-01-01</td>\n",
       "      <td>RUH</td>\n",
       "      <td>JED</td>\n",
       "      <td>1.0</td>\n",
       "    </tr>\n",
       "    <tr>\n",
       "      <th>...</th>\n",
       "      <td>...</td>\n",
       "      <td>...</td>\n",
       "      <td>...</td>\n",
       "      <td>...</td>\n",
       "      <td>...</td>\n",
       "      <td>...</td>\n",
       "      <td>...</td>\n",
       "    </tr>\n",
       "    <tr>\n",
       "      <th>374474</th>\n",
       "      <td>2013-12-24</td>\n",
       "      <td>SEA</td>\n",
       "      <td>SGN</td>\n",
       "      <td>2013-12-24</td>\n",
       "      <td>SEA</td>\n",
       "      <td>SGN</td>\n",
       "      <td>1.0</td>\n",
       "    </tr>\n",
       "    <tr>\n",
       "      <th>374634</th>\n",
       "      <td>2013-12-25</td>\n",
       "      <td>SAH</td>\n",
       "      <td>CAI</td>\n",
       "      <td>2013-12-25</td>\n",
       "      <td>SAH</td>\n",
       "      <td>CAI</td>\n",
       "      <td>1.0</td>\n",
       "    </tr>\n",
       "    <tr>\n",
       "      <th>374635</th>\n",
       "      <td>2013-12-25</td>\n",
       "      <td>SAH</td>\n",
       "      <td>CAI</td>\n",
       "      <td>2013-12-25</td>\n",
       "      <td>SAH</td>\n",
       "      <td>CAI</td>\n",
       "      <td>1.0</td>\n",
       "    </tr>\n",
       "    <tr>\n",
       "      <th>375320</th>\n",
       "      <td>2013-12-25</td>\n",
       "      <td>VIE</td>\n",
       "      <td>IST</td>\n",
       "      <td>2013-12-25</td>\n",
       "      <td>VIE</td>\n",
       "      <td>IST</td>\n",
       "      <td>1.0</td>\n",
       "    </tr>\n",
       "    <tr>\n",
       "      <th>375321</th>\n",
       "      <td>2013-12-25</td>\n",
       "      <td>VIE</td>\n",
       "      <td>IST</td>\n",
       "      <td>2013-12-25</td>\n",
       "      <td>VIE</td>\n",
       "      <td>IST</td>\n",
       "      <td>1.0</td>\n",
       "    </tr>\n",
       "  </tbody>\n",
       "</table>\n",
       "<p>30857 rows × 7 columns</p>\n",
       "</div>"
      ],
      "text/plain": [
       "              Date Origin Destination    cre_date dep_port arr_port  Booked\n",
       "27      2013-01-01    RUH         JED  2013-01-01      RUH      JED     1.0\n",
       "28      2013-01-01    RUH         JED  2013-01-01      RUH      JED     1.0\n",
       "29      2013-01-01    RUH         JED  2013-01-01      RUH      JED     1.0\n",
       "30      2013-01-01    RUH         JED  2013-01-01      RUH      JED     1.0\n",
       "31      2013-01-01    RUH         JED  2013-01-01      RUH      JED     1.0\n",
       "...            ...    ...         ...         ...      ...      ...     ...\n",
       "374474  2013-12-24    SEA         SGN  2013-12-24      SEA      SGN     1.0\n",
       "374634  2013-12-25    SAH         CAI  2013-12-25      SAH      CAI     1.0\n",
       "374635  2013-12-25    SAH         CAI  2013-12-25      SAH      CAI     1.0\n",
       "375320  2013-12-25    VIE         IST  2013-12-25      VIE      IST     1.0\n",
       "375321  2013-12-25    VIE         IST  2013-12-25      VIE      IST     1.0\n",
       "\n",
       "[30857 rows x 7 columns]"
      ]
     },
     "metadata": {},
     "output_type": "display_data"
    }
   ],
   "source": [
    "searches_bookings[(searches_bookings['Booked']==1)]"
   ]
  },
  {
   "cell_type": "code",
   "execution_count": null,
   "id": "6a95ef1f",
   "metadata": {},
   "outputs": [
    {
     "data": {
      "text/html": [
       "<div>\n",
       "<style scoped>\n",
       "    .dataframe tbody tr th:only-of-type {\n",
       "        vertical-align: middle;\n",
       "    }\n",
       "\n",
       "    .dataframe tbody tr th {\n",
       "        vertical-align: top;\n",
       "    }\n",
       "\n",
       "    .dataframe thead th {\n",
       "        text-align: right;\n",
       "    }\n",
       "</style>\n",
       "<table border=\"1\" class=\"dataframe\">\n",
       "  <thead>\n",
       "    <tr style=\"text-align: right;\">\n",
       "      <th></th>\n",
       "      <th>Date</th>\n",
       "      <th>Origin</th>\n",
       "      <th>Destination</th>\n",
       "      <th>cre_date</th>\n",
       "      <th>dep_port</th>\n",
       "      <th>arr_port</th>\n",
       "      <th>Booked</th>\n",
       "    </tr>\n",
       "  </thead>\n",
       "  <tbody>\n",
       "    <tr>\n",
       "      <th>0</th>\n",
       "      <td>2013-01-01</td>\n",
       "      <td>TXL</td>\n",
       "      <td>AUH</td>\n",
       "      <td>NaN</td>\n",
       "      <td>NaN</td>\n",
       "      <td>NaN</td>\n",
       "      <td>0</td>\n",
       "    </tr>\n",
       "    <tr>\n",
       "      <th>1</th>\n",
       "      <td>2013-01-01</td>\n",
       "      <td>ATH</td>\n",
       "      <td>MIL</td>\n",
       "      <td>NaN</td>\n",
       "      <td>NaN</td>\n",
       "      <td>NaN</td>\n",
       "      <td>0</td>\n",
       "    </tr>\n",
       "    <tr>\n",
       "      <th>2</th>\n",
       "      <td>2013-01-01</td>\n",
       "      <td>ICT</td>\n",
       "      <td>SFO</td>\n",
       "      <td>NaN</td>\n",
       "      <td>NaN</td>\n",
       "      <td>NaN</td>\n",
       "      <td>0</td>\n",
       "    </tr>\n",
       "    <tr>\n",
       "      <th>3</th>\n",
       "      <td>2013-01-01</td>\n",
       "      <td>RNB</td>\n",
       "      <td>ARN</td>\n",
       "      <td>NaN</td>\n",
       "      <td>NaN</td>\n",
       "      <td>NaN</td>\n",
       "      <td>0</td>\n",
       "    </tr>\n",
       "    <tr>\n",
       "      <th>4</th>\n",
       "      <td>2013-01-01</td>\n",
       "      <td>OSL</td>\n",
       "      <td>MAD</td>\n",
       "      <td>NaN</td>\n",
       "      <td>NaN</td>\n",
       "      <td>NaN</td>\n",
       "      <td>0</td>\n",
       "    </tr>\n",
       "  </tbody>\n",
       "</table>\n",
       "</div>"
      ],
      "text/plain": [
       "         Date Origin Destination cre_date dep_port arr_port  Booked\n",
       "0  2013-01-01    TXL         AUH      NaN      NaN      NaN       0\n",
       "1  2013-01-01    ATH         MIL      NaN      NaN      NaN       0\n",
       "2  2013-01-01    ICT         SFO      NaN      NaN      NaN       0\n",
       "3  2013-01-01    RNB         ARN      NaN      NaN      NaN       0\n",
       "4  2013-01-01    OSL         MAD      NaN      NaN      NaN       0"
      ]
     },
     "metadata": {},
     "output_type": "display_data"
    }
   ],
   "source": [
    "searches_bookings['Booked'] = searches_bookings['Booked'].fillna(0).astype(int)\n",
    "searches_bookings.head()"
   ]
  },
  {
   "cell_type": "code",
   "execution_count": null,
   "id": "6c761290",
   "metadata": {},
   "outputs": [
    {
     "name": "stdout",
     "output_type": "stream",
     "text": [
      "<class 'pandas.core.frame.DataFrame'>\n",
      "Int64Index: 375548 entries, 0 to 375547\n",
      "Data columns (total 7 columns):\n",
      " #   Column       Non-Null Count   Dtype \n",
      "---  ------       --------------   ----- \n",
      " 0   Date         375548 non-null  object\n",
      " 1   Origin       375548 non-null  object\n",
      " 2   Destination  375548 non-null  object\n",
      " 3   cre_date     30857 non-null   object\n",
      " 4   dep_port     30857 non-null   object\n",
      " 5   arr_port     30857 non-null   object\n",
      " 6   Booked       375548 non-null  int32 \n",
      "dtypes: int32(1), object(6)\n",
      "memory usage: 21.5+ MB\n"
     ]
    }
   ],
   "source": [
    "searches_bookings.info()"
   ]
  },
  {
   "cell_type": "code",
   "execution_count": null,
   "id": "a4d96f75",
   "metadata": {},
   "outputs": [],
   "source": [
    "# drop the columns of bookings we don't need now\n",
    "\n",
    "searches_bookings.drop([\"cre_date\",\"arr_port\",\"dep_port\"], axis = 1, inplace= True)"
   ]
  },
  {
   "cell_type": "code",
   "execution_count": null,
   "id": "f49f674a",
   "metadata": {},
   "outputs": [
    {
     "name": "stdout",
     "output_type": "stream",
     "text": [
      "<class 'pandas.core.frame.DataFrame'>\n",
      "Int64Index: 375548 entries, 0 to 375547\n",
      "Data columns (total 4 columns):\n",
      " #   Column       Non-Null Count   Dtype \n",
      "---  ------       --------------   ----- \n",
      " 0   Date         375548 non-null  object\n",
      " 1   Origin       375548 non-null  object\n",
      " 2   Destination  375548 non-null  object\n",
      " 3   Booked       375548 non-null  int32 \n",
      "dtypes: int32(1), object(3)\n",
      "memory usage: 12.9+ MB\n"
     ]
    }
   ],
   "source": [
    "searches_bookings.info()"
   ]
  },
  {
   "cell_type": "code",
   "execution_count": null,
   "id": "9539df65",
   "metadata": {},
   "outputs": [
    {
     "name": "stdout",
     "output_type": "stream",
     "text": [
      "30857 searches that ends with bookings\n"
     ]
    }
   ],
   "source": [
    "a = searches_bookings[searches_bookings['Booked'] == 1].value_counts().sum()\n",
    "print(a,'searches that ends with bookings')"
   ]
  },
  {
   "cell_type": "code",
   "execution_count": null,
   "id": "4def0a3a",
   "metadata": {},
   "outputs": [
    {
     "name": "stdout",
     "output_type": "stream",
     "text": [
      "344691 searches but not booked\n"
     ]
    }
   ],
   "source": [
    "b = searches_bookings[searches_bookings['Booked'] == 0].value_counts().sum()\n",
    "print(b,'searches but not booked')"
   ]
  },
  {
   "cell_type": "code",
   "execution_count": null,
   "id": "415ea01a",
   "metadata": {},
   "outputs": [
    {
     "name": "stdout",
     "output_type": "stream",
     "text": [
      "375548\n",
      "375548\n"
     ]
    }
   ],
   "source": [
    "print(searches_bookings.shape[0])\n",
    "print(a+b)"
   ]
  },
  {
   "cell_type": "code",
   "execution_count": null,
   "id": "9663376b",
   "metadata": {},
   "outputs": [
    {
     "name": "stdout",
     "output_type": "stream",
     "text": [
      "We can see in this data merged 8.21 % represents searches that ends in bookings\n"
     ]
    }
   ],
   "source": [
    "# In the merge data we have this searches with bookings and searches without bookings\n",
    "\n",
    "print(f'''We can see in this data merged {(lambda a,b:\n",
    "      (str((a/(b+a))*100))[:4])\n",
    "      (a,b)} % represents searches that ends in bookings''')"
   ]
  },
  {
   "attachments": {},
   "cell_type": "markdown",
   "id": "8a3bb9a9",
   "metadata": {},
   "source": [
    "<hr>\n",
    "\n",
    "# Finally make all work in functions\n",
    "\n",
    "Still in progress"
   ]
  },
  {
   "cell_type": "code",
   "execution_count": null,
   "id": "a68fae2a",
   "metadata": {},
   "outputs": [],
   "source": [
    "def searches_data_preprocessing(df, columns_to_clean):\n",
    "    '''\n",
    "    '''\n",
    "    df.drop_duplicates(inplace=True)\n",
    "    df.dropna(inplace=True, subset=['Date', 'Seg1Date'])\n",
    "    \n",
    "    for column in columns_to_clean:\n",
    "        df[column] = df[column].str.strip()\n",
    "        \n",
    "        if 'Date' not in column:\n",
    "            df[column] = df[column].str.upper()\n",
    "            \n",
    "            # Para saber si hay lengths superiores a 3 sin que nos de error por los missing values\n",
    "            cell_lengths = df[column].map(lambda x: len(x) if not isinstance(x, float) else x)\n",
    "            cell_lengths_notna = cell_lengths[cell_lengths.notna()]\n",
    "            cell_lengths_sum = (cell_lengths_notna != 3.0).sum()\n",
    "            \n",
    "            if cell_lengths_sum != 0:\n",
    "                print(f'Alert! There are `{column}` values with length different than 3. Dropping them..')\n",
    "                mask = cell_lengths_notna != 3.0\n",
    "                wrong_data = cell_lengths_notna[mask]\n",
    "                print(wrong_data)\n",
    "                df.drop(index=wrong_data.index, inplace=True)\n",
    "    \n",
    "    # Slicing dates to obtain year-month-day\n",
    "    df[\"Date\"] = df[\"Date\"].str[0:10]\n",
    "    df[\"Seg1Date\"] = df[\"Seg1Date\"].str[0:10]\n",
    "    \n",
    "    return df"
   ]
  },
  {
   "cell_type": "code",
   "execution_count": null,
   "id": "a25e9190",
   "metadata": {},
   "outputs": [],
   "source": [
    "\n",
    "def bookings_data_preprocessing(df): \n",
    "    '''\n",
    "    \n",
    "    '''\n",
    "    df.drop_duplicates(inplace=True)            # Drop the duplicates\n",
    "    df.columns = df.columns.str.strip()         # Clean the spaces in columns names\n",
    "    df['dep_port'] = df['dep_port'].str.strip().str.upper()\n",
    "    df['arr_port'] = df['arr_port'].str.strip().str.upper()\n",
    "    wrong_len_b_arr = df[\"arr_port\"].str.len() < 3\n",
    "    df = df.drop(wrong_len_b_arr[wrong_len_b_arr.index==True].index.tolist())\n",
    "    \n",
    "    df['Booked'] = 1        # Create new column to set the Bookeds with values\n",
    "    \n",
    "    # Slicing dates to obtain year-month-day\n",
    "    df[\"brd_time\"] = df[\"brd_time\"].str[0:10]\n",
    "    df[\"cre_date\"] = df[\"cre_date\"].str[0:10]\n",
    "    \n",
    "    return df"
   ]
  },
  {
   "cell_type": "code",
   "execution_count": null,
   "id": "92a1f383",
   "metadata": {},
   "outputs": [
    {
     "name": "stdout",
     "output_type": "stream",
     "text": [
      "CPU times: total: 20.6 s\n",
      "Wall time: 1min 36s\n"
     ]
    }
   ],
   "source": [
    "%%time\n",
    "# interest_columns_searches = [0, 5, 6, 11]\n",
    "\n",
    "searches_data = searches_data_preprocessing(pd.read_csv(path_searches,\n",
    "                                        sep='^',\n",
    "                                        compression='bz2',\n",
    "                                        low_memory=False,\n",
    "                                        usecols=['Date','Origin','Destination','Seg1Date']),              # Read csv df\n",
    "                            ['Date','Origin','Destination','Seg1Date']) # Columns of interest"
   ]
  },
  {
   "cell_type": "code",
   "execution_count": null,
   "id": "08cd18c1",
   "metadata": {},
   "outputs": [
    {
     "name": "stdout",
     "output_type": "stream",
     "text": [
      "<class 'pandas.core.frame.DataFrame'>\n",
      "Int64Index: 708881 entries, 0 to 5000008\n",
      "Data columns (total 5 columns):\n",
      " #   Column    Non-Null Count   Dtype \n",
      "---  ------    --------------   ----- \n",
      " 0   cre_date  708881 non-null  object\n",
      " 1   dep_port  708881 non-null  object\n",
      " 2   arr_port  708881 non-null  object\n",
      " 3   brd_time  708881 non-null  object\n",
      " 4   Booked    708881 non-null  int64 \n",
      "dtypes: int64(1), object(4)\n",
      "memory usage: 32.4+ MB\n",
      "CPU times: total: 16.1 s\n",
      "Wall time: 1min 24s\n"
     ]
    }
   ],
   "source": [
    "%%time\n",
    "\n",
    "bookings_data = pd.read_csv(path_bookings,\n",
    "                            sep = '^',\n",
    "                            compression = 'bz2',\n",
    "                            # nrows = 2e6,\n",
    "                            usecols = interest_columns_bookings,\n",
    "                            low_memory=True, \n",
    "                            dtype=str)\n",
    "\n",
    "bookings_data = bookings_data_preprocessing(bookings_data)\n",
    "bookings_data.info()"
   ]
  },
  {
   "cell_type": "code",
   "execution_count": null,
   "id": "9337def0",
   "metadata": {},
   "outputs": [],
   "source": [
    "def merge_data(df_searches, df_bookings):\n",
    "      \n",
    "      searches_bookings_merge = df_searches.merge(df_bookings, how='left',\n",
    "                                   left_on= ['Date','Origin','Destination'],\n",
    "                                   right_on= ['cre_date','dep_port','arr_port'])\n",
    "    \n",
    "      searches_bookings_merge['Booked'] = searches_bookings_merge['Booked'].fillna(0)  # Fill the Na values with 0\n",
    "    \n",
    "    # drop the columns of bookings we don't need now\n",
    "\n",
    "      searches_bookings_merge.drop([\"cre_date\",\"arr_port\",\"dep_port\"], axis = 1, inplace= True)\n",
    "    \n",
    "      print(searches_bookings_merge[searches_bookings_merge['Booked'] == 1].value_counts().sum(),\n",
    "            'searches that ends with bookings')\n",
    "      \n",
    "      print('='*66)\n",
    "      \n",
    "      print(searches_bookings_merge[searches_bookings_merge['Booked'] == 0].value_counts().sum(),\n",
    "            'searches but not booked')\n",
    "      print('='*66)\n",
    "      \n",
    "      return searches_bookings_merge"
   ]
  },
  {
   "cell_type": "code",
   "execution_count": null,
   "id": "1d5d6af2",
   "metadata": {},
   "outputs": [
    {
     "name": "stdout",
     "output_type": "stream",
     "text": [
      "30857 searches that ends with bookings\n",
      "==================================================================\n",
      "0 searches but not booked\n",
      "==================================================================\n"
     ]
    }
   ],
   "source": [
    "s_b = merge_data(searches_data, bookings_data)"
   ]
  },
  {
   "cell_type": "code",
   "execution_count": null,
   "id": "a471733e",
   "metadata": {},
   "outputs": [
    {
     "data": {
      "text/plain": [
       "30857"
      ]
     },
     "metadata": {},
     "output_type": "display_data"
    }
   ],
   "source": [
    "s_b[s_b['Booked'] == 1].value_counts().sum()"
   ]
  },
  {
   "cell_type": "code",
   "execution_count": null,
   "id": "45bfe035",
   "metadata": {},
   "outputs": [
    {
     "data": {
      "text/plain": [
       "0"
      ]
     },
     "metadata": {},
     "output_type": "display_data"
    }
   ],
   "source": [
    "s_b[s_b['Booked'] == 0.0].value_counts().sum()"
   ]
  },
  {
   "cell_type": "code",
   "execution_count": null,
   "id": "acd2899d",
   "metadata": {},
   "outputs": [
    {
     "data": {
      "text/plain": [
       "[0.0, 1.0]"
      ]
     },
     "metadata": {},
     "output_type": "display_data"
    }
   ],
   "source": [
    "s_b['Booked'].unique().tolist()"
   ]
  },
  {
   "cell_type": "markdown",
   "id": "9f9159f6",
   "metadata": {},
   "source": [
    "Aquí falla algo pero no sé por qué no me devuelve los 0 en Booked\n",
    "Preguntar a DANI"
   ]
  },
  {
   "cell_type": "code",
   "execution_count": null,
   "id": "7063b25b",
   "metadata": {},
   "outputs": [
    {
     "name": "stdout",
     "output_type": "stream",
     "text": [
      "<class 'pandas.core.frame.DataFrame'>\n",
      "Int64Index: 375548 entries, 0 to 375547\n",
      "Data columns (total 6 columns):\n",
      " #   Column       Non-Null Count   Dtype  \n",
      "---  ------       --------------   -----  \n",
      " 0   Date         375548 non-null  object \n",
      " 1   Origin       375548 non-null  object \n",
      " 2   Destination  375548 non-null  object \n",
      " 3   Seg1Date     375548 non-null  object \n",
      " 4   brd_time     30857 non-null   object \n",
      " 5   Booked       375548 non-null  float64\n",
      "dtypes: float64(1), object(5)\n",
      "memory usage: 20.1+ MB\n"
     ]
    }
   ],
   "source": [
    "s_b.info()"
   ]
  },
  {
   "cell_type": "markdown",
   "id": "7cbb2eeb",
   "metadata": {},
   "source": [
    "**BONUS**\n",
    "\n",
    "Trying to use `Dask` for read and process the data even faster than pandas"
   ]
  },
  {
   "cell_type": "code",
   "execution_count": null,
   "id": "1851ec18",
   "metadata": {},
   "outputs": [],
   "source": [
    "# Libraries\n",
    "\n",
    "import dask.dataframe as dd"
   ]
  },
  {
   "cell_type": "code",
   "execution_count": null,
   "id": "3e215d71",
   "metadata": {},
   "outputs": [
    {
     "name": "stderr",
     "output_type": "stream",
     "text": [
      "c:\\Users\\Pablo Villar\\python\\Lib\\site-packages\\dask\\dataframe\\io\\csv.py:543: UserWarning: Warning bz2 compression does not support breaking apart files\n",
      "Please ensure that each individual file can fit in memory and\n",
      "use the keyword ``blocksize=None to remove this message``\n",
      "Setting ``blocksize=None``\n",
      "  warn(\n"
     ]
    },
    {
     "name": "stdout",
     "output_type": "stream",
     "text": [
      "CPU times: total: 16.5 s\n",
      "Wall time: 1min 54s\n"
     ]
    },
    {
     "data": {
      "text/html": [
       "<div>\n",
       "<style scoped>\n",
       "    .dataframe tbody tr th:only-of-type {\n",
       "        vertical-align: middle;\n",
       "    }\n",
       "\n",
       "    .dataframe tbody tr th {\n",
       "        vertical-align: top;\n",
       "    }\n",
       "\n",
       "    .dataframe thead th {\n",
       "        text-align: right;\n",
       "    }\n",
       "</style>\n",
       "<table border=\"1\" class=\"dataframe\">\n",
       "  <thead>\n",
       "    <tr style=\"text-align: right;\">\n",
       "      <th></th>\n",
       "      <th>Date</th>\n",
       "      <th>Origin</th>\n",
       "      <th>Destination</th>\n",
       "      <th>Seg1Date</th>\n",
       "    </tr>\n",
       "  </thead>\n",
       "  <tbody>\n",
       "    <tr>\n",
       "      <th>0</th>\n",
       "      <td>2013-01-01</td>\n",
       "      <td>TXL</td>\n",
       "      <td>AUH</td>\n",
       "      <td>2013-01-26</td>\n",
       "    </tr>\n",
       "    <tr>\n",
       "      <th>1</th>\n",
       "      <td>2013-01-01</td>\n",
       "      <td>ATH</td>\n",
       "      <td>MIL</td>\n",
       "      <td>2013-01-04</td>\n",
       "    </tr>\n",
       "    <tr>\n",
       "      <th>2</th>\n",
       "      <td>2013-01-01</td>\n",
       "      <td>ICT</td>\n",
       "      <td>SFO</td>\n",
       "      <td>2013-08-02</td>\n",
       "    </tr>\n",
       "    <tr>\n",
       "      <th>3</th>\n",
       "      <td>2013-01-01</td>\n",
       "      <td>RNB</td>\n",
       "      <td>ARN</td>\n",
       "      <td>2013-01-02</td>\n",
       "    </tr>\n",
       "    <tr>\n",
       "      <th>4</th>\n",
       "      <td>2013-01-01</td>\n",
       "      <td>OSL</td>\n",
       "      <td>MAD</td>\n",
       "      <td>2013-03-22</td>\n",
       "    </tr>\n",
       "  </tbody>\n",
       "</table>\n",
       "</div>"
      ],
      "text/plain": [
       "         Date Origin Destination    Seg1Date\n",
       "0  2013-01-01    TXL         AUH  2013-01-26\n",
       "1  2013-01-01    ATH         MIL  2013-01-04\n",
       "2  2013-01-01    ICT         SFO  2013-08-02\n",
       "3  2013-01-01    RNB         ARN  2013-01-02\n",
       "4  2013-01-01    OSL         MAD  2013-03-22"
      ]
     },
     "metadata": {},
     "output_type": "display_data"
    }
   ],
   "source": [
    "%%time\n",
    "\n",
    "df = dd.read_csv(path_searches,\n",
    "                 blocksize='300MB',\n",
    "                 sep = '^',\n",
    "                 compression = 'bz2',\n",
    "                 usecols = interest_columns_searches\n",
    "                 )\n",
    "\n",
    "df.head()"
   ]
  },
  {
   "attachments": {},
   "cell_type": "markdown",
   "id": "8c5e8598",
   "metadata": {},
   "source": [
    "<hr>\n",
    "\n",
    "# Exercise 5\n",
    "\n",
    "**Write a web service**\n",
    "\n",
    "* Wrap the output of the second exercise in a web service that returns the data in JSON format (instead of printing to the standard output).\n",
    "  \n",
    "* The web service should accept a parameter n>0. For the top 10 airports, n is 10. For the X top airports, n is X\n",
    "\n"
   ]
  },
  {
   "cell_type": "code",
   "execution_count": null,
   "id": "4079fb0a",
   "metadata": {},
   "outputs": [
    {
     "name": "stdout",
     "output_type": "stream",
     "text": [
      " * Serving Flask app '__main__'\n",
      " * Debug mode: off\n"
     ]
    },
    {
     "name": "stderr",
     "output_type": "stream",
     "text": [
      "WARNING: This is a development server. Do not use it in a production deployment. Use a production WSGI server instead.\n",
      " * Running on http://127.0.0.1:5000\n",
      "Press CTRL+C to quit\n",
      "127.0.0.1 - - [22/Feb/2023 12:20:29] \"GET / HTTP/1.1\" 200 -\n",
      "127.0.0.1 - - [22/Feb/2023 12:20:32] \"GET / HTTP/1.1\" 200 -\n",
      "127.0.0.1 - - [22/Feb/2023 12:20:32] \"GET /favicon.ico HTTP/1.1\" 404 -\n",
      "127.0.0.1 - - [22/Feb/2023 12:20:59] \"GET /top_airports?n=10 HTTP/1.1\" 200 -\n"
     ]
    }
   ],
   "source": [
    "from flask import Flask, jsonify, request\n",
    "import pandas as pd\n",
    "\n",
    "app = Flask(__name__)\n",
    "\n",
    "# Read in the data\n",
    "df = pd.read_csv('top_10_Exercise_2.csv', sep='^')\n",
    "\n",
    "# Endpoint to return top n airports\n",
    "@app.route('/')\n",
    "def hello():\n",
    "    return \"<h1>Hello, welcome to top airports exercise 5</h1> <h3> Introduce in the url /top_airports?n=(number between 1 and 10)\"\n",
    "\n",
    "@app.route('/top_airports', methods=['GET'])\n",
    "def get_top_airports():\n",
    "    # Get n from query parameter or set default to 10\n",
    "    n = int(request.args.get('n', 10))\n",
    "\n",
    "    # Sort DataFrame by 'pax' column in descending order\n",
    "    sorted_df = df.sort_values(by='pax', ascending=False)\n",
    "\n",
    "    # Select top n rows\n",
    "    top_airports = sorted_df.head(n)\n",
    "\n",
    "    # Convert DataFrame to dictionary and jsonify the result\n",
    "    result = top_airports.to_dict(orient='records')\n",
    "    return jsonify(result)\n",
    "\n",
    "if __name__ == '__main__':\n",
    "    app.run()\n"
   ]
  },
  {
   "cell_type": "code",
   "execution_count": null,
   "id": "490ed8fc",
   "metadata": {},
   "outputs": [],
   "source": [
    "# para ver el top metemos la dirección y decimos cuantos queremos ver seguido de ?n=\n",
    "\n",
    "http://127.0.0.1:5000/top_airports?n=5"
   ]
  }
 ],
 "metadata": {
  "kernelspec": {
   "display_name": "Python 3",
   "language": "python",
   "name": "python3"
  },
  "language_info": {
   "codemirror_mode": {
    "name": "ipython",
    "version": 3
   },
   "file_extension": ".py",
   "mimetype": "text/x-python",
   "name": "python",
   "nbconvert_exporter": "python",
   "pygments_lexer": "ipython3",
   "version": "3.11.1"
  },
  "vscode": {
   "interpreter": {
    "hash": "5de336b9d235d4ddc762faae00ec3697a92c8fab4ffe4636ca02ddc0c3d5e03d"
   }
  }
 },
 "nbformat": 4,
 "nbformat_minor": 5
}
