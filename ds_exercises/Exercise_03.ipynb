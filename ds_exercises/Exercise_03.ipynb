{
 "cells": [
  {
   "attachments": {},
   "cell_type": "markdown",
   "metadata": {},
   "source": [
    "# Exercise 3\n",
    "\n",
    "**Plot the monthly number of searches for flights arriving at Málaga, Madrid or Barcelona**\n",
    "\n",
    "- For the arriving airport, you can use the Destination column in the searches file. \n",
    "- Plot a curve for Málaga, another one for Madrid, and another one for Barcelona, in the same figure.\n",
    "- **Bonus point**: Solving this problem using pandas (instead of any other approach)"
   ]
  }
 ],
 "metadata": {
  "kernelspec": {
   "display_name": "Python 3",
   "language": "python",
   "name": "python3"
  },
  "language_info": {
   "name": "python",
   "version": "3.11.1"
  },
  "orig_nbformat": 4,
  "vscode": {
   "interpreter": {
    "hash": "5de336b9d235d4ddc762faae00ec3697a92c8fab4ffe4636ca02ddc0c3d5e03d"
   }
  }
 },
 "nbformat": 4,
 "nbformat_minor": 2
}
