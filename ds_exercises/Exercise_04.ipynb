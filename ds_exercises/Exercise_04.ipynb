{
 "cells": [
  {
   "attachments": {},
   "cell_type": "markdown",
   "metadata": {},
   "source": [
    "# Exercise 4\n",
    "\n",
    "**Match searches with bookings**\n",
    "\n",
    "- For every search in the searches file, find out whether the search ended up in a booking or not (using the info in the bookings file). For instance, search and booking origin and destination should match.\n",
    "- For the bookings file, origin and destination are the columns `dep_port` and `arr_port`, respectively.\n",
    "- Generate a CSV file with the search data, and an additional field, containing 1 if the search ended up in a booking, and 0 otherwise."
   ]
  }
 ],
 "metadata": {
  "kernelspec": {
   "display_name": "Python 3",
   "language": "python",
   "name": "python3"
  },
  "language_info": {
   "name": "python",
   "version": "3.11.1"
  },
  "orig_nbformat": 4,
  "vscode": {
   "interpreter": {
    "hash": "5de336b9d235d4ddc762faae00ec3697a92c8fab4ffe4636ca02ddc0c3d5e03d"
   }
  }
 },
 "nbformat": 4,
 "nbformat_minor": 2
}
