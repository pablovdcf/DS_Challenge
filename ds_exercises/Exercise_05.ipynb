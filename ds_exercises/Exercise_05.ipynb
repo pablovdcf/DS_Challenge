{
 "cells": [
  {
   "attachments": {},
   "cell_type": "markdown",
   "metadata": {},
   "source": [
    "# Exercise 5\n",
    "\n",
    "**Write a web service**\n",
    "\n",
    "* Wrap the output of the second exercise in a web service that returns the data in JSON format (instead of printing to the standard output).\n",
    "  \n",
    "* The web service should accept a parameter n>0. For the top 10 airports, n is 10. For the X top airports, n is X\n",
    "\n"
   ]
  },
  {
   "attachments": {},
   "cell_type": "markdown",
   "metadata": {},
   "source": [
    "**HACER EJERCICIO CON STREAMLIT o FLASK**"
   ]
  },
  {
   "attachments": {},
   "cell_type": "markdown",
   "metadata": {},
   "source": [
    "### Web Service\n",
    "https://jsonformatter.org/json-pretty-print #says if it is valid or not\n",
    "\n",
    "https://jsonformatter.curiousconcept.com/ # you can drill down"
   ]
  },
  {
   "attachments": {},
   "cell_type": "markdown",
   "metadata": {},
   "source": [
    "### Buenas prácticas\n",
    "\n",
    "Antes de arrancar es recomendable instalar un entorno virtual\n",
    "\n",
    "Creamos un directorio nuevo `mkdir` nombre_del_directorio\n",
    "\n",
    "En mi caso:\n",
    "````bash\n",
    "mkdir Flask    # Creo directorio\n",
    "\n",
    "cd Flask       # Me muevo al directorio\n",
    "\n",
    "virtualenv flask_env -p python3    # Creo el entorno virtual con python3\n",
    "\n",
    "cd flask_env   # Me muevo al entorno creado (Carpeta)\n",
    "\n",
    "cd Scripts     # Dentro de la carpeta scripts puedo activar el entorno\n",
    "\n",
    ".\\activate1.ps1  # Activo el entorno\n",
    "\n",
    "pwd  # Puedo copiar la ruta para activarlo despúes sin tener que moverme con cd\n",
    "````\n",
    "\n",
    "En cualquier caso:\n",
    "\n",
    "Importando Flask y poniendo en el app.run(debug=False) funciona"
   ]
  },
  {
   "attachments": {},
   "cell_type": "markdown",
   "metadata": {},
   "source": [
    "### Modules and libraries"
   ]
  },
  {
   "cell_type": "code",
   "execution_count": 36,
   "metadata": {},
   "outputs": [
    {
     "name": "stdout",
     "output_type": "stream",
     "text": [
      " * Serving Flask app '__main__'\n",
      " * Debug mode: off\n"
     ]
    },
    {
     "name": "stderr",
     "output_type": "stream",
     "text": [
      "WARNING: This is a development server. Do not use it in a production deployment. Use a production WSGI server instead.\n",
      " * Running on http://127.0.0.1:5000\n",
      "Press CTRL+C to quit\n",
      "127.0.0.1 - - [22/Feb/2023 12:20:29] \"GET / HTTP/1.1\" 200 -\n",
      "127.0.0.1 - - [22/Feb/2023 12:20:32] \"GET / HTTP/1.1\" 200 -\n",
      "127.0.0.1 - - [22/Feb/2023 12:20:32] \"GET /favicon.ico HTTP/1.1\" 404 -\n",
      "127.0.0.1 - - [22/Feb/2023 12:20:59] \"GET /top_airports?n=10 HTTP/1.1\" 200 -\n"
     ]
    }
   ],
   "source": [
    "from flask import Flask, jsonify, request\n",
    "import pandas as pd\n",
    "\n",
    "app = Flask(__name__)\n",
    "\n",
    "# Read in the data\n",
    "df = pd.read_csv('top_10_Exercise_2.csv', sep='^')\n",
    "\n",
    "# Endpoint to return top n airports\n",
    "@app.route('/')\n",
    "def hello():\n",
    "    return \"<h1>Hello, welcome to top airports exercise 5</h1> <h3> Introduce in the url /top_airports?n=(number between 1 and 10)\"\n",
    "\n",
    "@app.route('/top_airports', methods=['GET'])\n",
    "def get_top_airports():\n",
    "    # Get n from query parameter or set default to 10\n",
    "    n = int(request.args.get('n', 10))\n",
    "\n",
    "    # Sort DataFrame by 'pax' column in descending order\n",
    "    sorted_df = df.sort_values(by='pax', ascending=False)\n",
    "\n",
    "    # Select top n rows\n",
    "    top_airports = sorted_df.head(n)\n",
    "\n",
    "    # Convert DataFrame to dictionary and jsonify the result\n",
    "    result = top_airports.to_dict(orient='records')\n",
    "    return jsonify(result)\n",
    "\n",
    "if __name__ == '__main__':\n",
    "    app.run()\n"
   ]
  },
  {
   "cell_type": "code",
   "execution_count": null,
   "metadata": {},
   "outputs": [],
   "source": [
    "# para ver el top metemos la dirección y decimos cuantos queremos ver seguido de ?n=\n",
    "\n",
    "http://127.0.0.1:5000/top_airports?n=5"
   ]
  }
 ],
 "metadata": {
  "kernelspec": {
   "display_name": "Python 3",
   "language": "python",
   "name": "python3"
  },
  "language_info": {
   "codemirror_mode": {
    "name": "ipython",
    "version": 3
   },
   "file_extension": ".py",
   "mimetype": "text/x-python",
   "name": "python",
   "nbconvert_exporter": "python",
   "pygments_lexer": "ipython3",
   "version": "3.11.1"
  },
  "orig_nbformat": 4,
  "vscode": {
   "interpreter": {
    "hash": "5de336b9d235d4ddc762faae00ec3697a92c8fab4ffe4636ca02ddc0c3d5e03d"
   }
  }
 },
 "nbformat": 4,
 "nbformat_minor": 2
}
